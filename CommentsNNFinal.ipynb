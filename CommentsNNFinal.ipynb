{
 "cells": [
  {
   "cell_type": "code",
   "execution_count": 1,
   "id": "c40b1208",
   "metadata": {},
   "outputs": [],
   "source": [
    "import pandas as pd\n",
    "import numpy as np\n",
    "import re\n",
    "import nltk\n",
    "import math \n",
    "from collections import Counter\n",
    "import matplotlib.pyplot as plt\n",
    "from autocorrect import Speller\n",
    "from nltk.corpus import stopwords\n",
    "from keras.preprocessing.text import Tokenizer\n",
    "from keras.models import Sequential\n",
    "from keras.layers import Dense, Embedding, LSTM, SpatialDropout1D, Dropout, Flatten"
   ]
  },
  {
   "cell_type": "code",
   "execution_count": 2,
   "id": "dec94394",
   "metadata": {},
   "outputs": [],
   "source": [
    "df = pd.read_csv('TitleDataSet/final_data.csv', header=None)"
   ]
  },
  {
   "cell_type": "code",
   "execution_count": 3,
   "id": "ed1b8a12",
   "metadata": {},
   "outputs": [
    {
     "name": "stderr",
     "output_type": "stream",
     "text": [
      "C:\\Users\\ashch\\AppData\\Local\\Temp\\ipykernel_9296\\2662738091.py:2: FutureWarning: The default value of regex will change from True to False in a future version.\n",
      "  df[0] = df[0].str.replace('http\\S+|www.\\S+', '', case=False)          #url\n",
      "C:\\Users\\ashch\\AppData\\Local\\Temp\\ipykernel_9296\\2662738091.py:4: FutureWarning: The default value of regex will change from True to False in a future version.\n",
      "  df[0] = df[0].str.replace('[^\\w\\s]',' ')                              #punctuations\n",
      "C:\\Users\\ashch\\AppData\\Local\\Temp\\ipykernel_9296\\2662738091.py:5: FutureWarning: The default value of regex will change from True to False in a future version.\n",
      "  df[0] = df[0].str.replace('\\d','')                                    #int\n",
      "C:\\Users\\ashch\\AppData\\Local\\Temp\\ipykernel_9296\\2662738091.py:6: FutureWarning: The default value of regex will change from True to False in a future version.\n",
      "  df[0] = df[0].str.replace('[^\\w\\s#@/:%.,_-]', ' ', flags=re.UNICODE)  #emoji\n"
     ]
    }
   ],
   "source": [
    "df[0] = df[0].str.lower()\n",
    "df[0] = df[0].str.replace('http\\S+|www.\\S+', '', case=False)          #url\n",
    "df[0] = df[0].str.replace('\\n',' ')                                   #lines\n",
    "df[0] = df[0].str.replace('[^\\w\\s]',' ')                              #punctuations\n",
    "df[0] = df[0].str.replace('\\d','')                                    #int\n",
    "df[0] = df[0].str.replace('[^\\w\\s#@/:%.,_-]', ' ', flags=re.UNICODE)  #emoji"
   ]
  },
  {
   "cell_type": "code",
   "execution_count": 4,
   "id": "bc134b4c",
   "metadata": {},
   "outputs": [],
   "source": [
    "spell = Speller(lang='en')\n",
    "def typo_corrector(text):\n",
    "    return spell(text)\n",
    "df[0] = df[0].apply(typo_corrector)"
   ]
  },
  {
   "cell_type": "code",
   "execution_count": 5,
   "id": "3d947b86",
   "metadata": {},
   "outputs": [],
   "source": [
    "lemmatizer = nltk.stem.WordNetLemmatizer()\n",
    "def lemmatize_text(text):\n",
    "    return lemmatizer.lemmatize(text)\n",
    "df[0] = df[0].apply(lemmatize_text)"
   ]
  },
  {
   "cell_type": "code",
   "execution_count": 29,
   "id": "feebe73a",
   "metadata": {},
   "outputs": [],
   "source": [
    "stop = stopwords.words('english')\n",
    "neg = ['no','not']\n",
    "interrogative = ['how','what','which','who','whom','why','do','does','is','are','was','were','will','am','are','could','would','should','can','did','does','do','had','have']\n",
    "imperative = ['could','would','should','can']\n",
    "\n",
    "forNegative = stop.copy()\n",
    "for word in neg:\n",
    "    if word in forNegative:\n",
    "        forNegative.remove(word)\n",
    "forInterrogative = stop.copy()\n",
    "for word in interrogative:\n",
    "    if word in forInterrogative:\n",
    "        forInterrogative.remove(word)    \n",
    "forImperative = stop.copy()\n",
    "for word in imperative:\n",
    "    if word in forImperative:\n",
    "        forImperative.remove(word)\n",
    "\n",
    "for i in range(len(df)):\n",
    "    if df[1][i] == \"negative\":\n",
    "        df[0][i] = ' '.join([word for word in df[0][i].split() if word not in forNegative])\n",
    "for i in range(len(df)):\n",
    "    if df[1][i] == \"interrogative\":\n",
    "        df[0][i] = ' '.join([word for word in df[0][i].split() if word not in forInterrogative])\n",
    "for i in range(len(df)):\n",
    "    if df[1][i] == \"imperative\":\n",
    "        df[0][i] = ' '.join([word for word in df[0][i].split() if word not in forImperative])\n",
    "for i in range(len(df)):\n",
    "    if df[1][i] == \"positive\" or df[1][i] == \"other\":\n",
    "        df[0][i] = ' '.join([word for word in df[0][i].split() if word not in stop])"
   ]
  },
  {
   "cell_type": "code",
   "execution_count": 30,
   "id": "2908c83a",
   "metadata": {},
   "outputs": [
    {
     "name": "stdout",
     "output_type": "stream",
     "text": [
      "Found 8986 unique tokens.\n"
     ]
    }
   ],
   "source": [
    "maxWords = 50000\n",
    "maxSeq = 250\n",
    "embVec = 100\n",
    "tokenizer = Tokenizer(num_words=maxWords, filters='!\"#$%&()*+,-./:;<=>?@[\\]^_`{|}~', lower=True)\n",
    "tokenizer.fit_on_texts(df[0].values)\n",
    "word_index = tokenizer.word_index\n",
    "print('Found %s unique tokens.' % len(word_index))"
   ]
  },
  {
   "cell_type": "code",
   "execution_count": 31,
   "id": "a77dc66a",
   "metadata": {},
   "outputs": [],
   "source": [
    "from keras.preprocessing.sequence import pad_sequences\n",
    "features = tokenizer.texts_to_sequences(df[0].values)\n",
    "features = pad_sequences(features, maxSeq)\n",
    "labels = pd.get_dummies(df[1]).values"
   ]
  },
  {
   "cell_type": "code",
   "execution_count": 32,
   "id": "09230d1b",
   "metadata": {},
   "outputs": [
    {
     "data": {
      "text/plain": [
       "array(['positive', 'imperative', 'interrogative', 'other', 'negative'],\n",
       "      dtype=object)"
      ]
     },
     "execution_count": 32,
     "metadata": {},
     "output_type": "execute_result"
    }
   ],
   "source": [
    "df[1].unique()"
   ]
  },
  {
   "cell_type": "code",
   "execution_count": 33,
   "id": "04717a52",
   "metadata": {},
   "outputs": [],
   "source": [
    "from sklearn.model_selection import train_test_split\n",
    "X_train, X_test, y_train, y_test = train_test_split(features, labels, test_size = 0.2, random_state = 42)"
   ]
  },
  {
   "cell_type": "code",
   "execution_count": 34,
   "id": "9f26c3c6",
   "metadata": {},
   "outputs": [
    {
     "name": "stdout",
     "output_type": "stream",
     "text": [
      "Model: \"sequential_4\"\n",
      "_________________________________________________________________\n",
      " Layer (type)                Output Shape              Param #   \n",
      "=================================================================\n",
      " embedding_4 (Embedding)     (None, 250, 100)          5000000   \n",
      "                                                                 \n",
      " dense_9 (Dense)             (None, 250, 128)          12928     \n",
      "                                                                 \n",
      " dropout_3 (Dropout)         (None, 250, 128)          0         \n",
      "                                                                 \n",
      " dense_10 (Dense)            (None, 250, 128)          16512     \n",
      "                                                                 \n",
      " dropout_4 (Dropout)         (None, 250, 128)          0         \n",
      "                                                                 \n",
      " dense_11 (Dense)            (None, 250, 64)           8256      \n",
      "                                                                 \n",
      " dropout_5 (Dropout)         (None, 250, 64)           0         \n",
      "                                                                 \n",
      " flatten_1 (Flatten)         (None, 16000)             0         \n",
      "                                                                 \n",
      " dense_12 (Dense)            (None, 5)                 80005     \n",
      "                                                                 \n",
      "=================================================================\n",
      "Total params: 5,117,701\n",
      "Trainable params: 5,117,701\n",
      "Non-trainable params: 0\n",
      "_________________________________________________________________\n",
      "None\n"
     ]
    }
   ],
   "source": [
    "model1 = Sequential()\n",
    "model1.add(Embedding(maxWords, embVec, input_length=features.shape[1]))\n",
    "model1.add(Dense(128, activation='relu'))\n",
    "model1.add(Dropout(0.2))\n",
    "model1.add(Dense(128, activation='relu'))\n",
    "model1.add(Dropout(0.2))\n",
    "model1.add(Dense(64, activation='relu'))\n",
    "model1.add(Dropout(0.2))\n",
    "model1.add(Flatten())\n",
    "model1.add(Dense(5, activation='softmax'))\n",
    "model1.compile(loss='categorical_crossentropy', optimizer='adam', metrics=['accuracy'])\n",
    "print(model1.summary())"
   ]
  },
  {
   "cell_type": "code",
   "execution_count": 35,
   "id": "d9186387",
   "metadata": {},
   "outputs": [
    {
     "name": "stdout",
     "output_type": "stream",
     "text": [
      "Epoch 1/5\n",
      "200/200 [==============================] - 28s 140ms/step - loss: 1.0072 - accuracy: 0.5984 - val_loss: 0.6848 - val_accuracy: 0.7613\n",
      "Epoch 2/5\n",
      "200/200 [==============================] - 29s 145ms/step - loss: 0.6088 - accuracy: 0.7837 - val_loss: 0.6406 - val_accuracy: 0.7850\n",
      "Epoch 3/5\n",
      "200/200 [==============================] - 26s 132ms/step - loss: 0.4752 - accuracy: 0.8383 - val_loss: 0.6589 - val_accuracy: 0.7825\n",
      "Epoch 4/5\n",
      "200/200 [==============================] - 26s 131ms/step - loss: 0.3670 - accuracy: 0.8766 - val_loss: 0.7143 - val_accuracy: 0.7825\n",
      "Epoch 5/5\n",
      "200/200 [==============================] - 27s 135ms/step - loss: 0.2945 - accuracy: 0.9022 - val_loss: 0.7950 - val_accuracy: 0.7887\n"
     ]
    }
   ],
   "source": [
    "history1 = model1.fit(X_train, y_train, epochs=5, validation_split=0.2)"
   ]
  },
  {
   "cell_type": "code",
   "execution_count": 36,
   "id": "b1106cff",
   "metadata": {},
   "outputs": [
    {
     "data": {
      "text/plain": [
       "<matplotlib.legend.Legend at 0x1adaab74580>"
      ]
     },
     "execution_count": 36,
     "metadata": {},
     "output_type": "execute_result"
    },
    {
     "data": {
      "image/png": "[encoded data removed]",
      "text/plain": [
       "<Figure size 432x288 with 1 Axes>"
      ]
     },
     "metadata": {},
     "output_type": "display_data"
    }
   ],
   "source": [
    "plt.style.use(\"ggplot\")\n",
    "plt.figure()\n",
    "plt.plot(np.arange(0, 5), history1.history[\"loss\"], label=\"train_loss\")\n",
    "plt.plot(np.arange(0, 5), history1.history[\"val_loss\"], label=\"val_loss\")\n",
    "plt.plot(np.arange(0, 5), history1.history[\"accuracy\"], label=\"train_acc\")\n",
    "plt.plot(np.arange(0, 5), history1.history[\"val_accuracy\"], label=\"val_acc\")\n",
    "plt.title(\"Training Loss and Accuracy\")\n",
    "plt.xlabel(\"Epoch #\")\n",
    "plt.ylabel(\"Loss/Accuracy\")\n",
    "plt.legend(loc=\"lower left\")"
   ]
  },
  {
   "cell_type": "code",
   "execution_count": 37,
   "id": "e4b47ad3",
   "metadata": {},
   "outputs": [
    {
     "name": "stdout",
     "output_type": "stream",
     "text": [
      "100/100 - 1s - loss: 0.8277 - accuracy: 0.7705 - 981ms/epoch - 10ms/step\n"
     ]
    },
    {
     "data": {
      "text/plain": [
       "[0.8276503086090088, 0.7705000042915344]"
      ]
     },
     "execution_count": 37,
     "metadata": {},
     "output_type": "execute_result"
    }
   ],
   "source": [
    "model1.evaluate(X_test, y_test, batch_size=20, verbose=2)   #[0.8276503086090088, 0.7705000042915344]"
   ]
  },
  {
   "cell_type": "code",
   "execution_count": 38,
   "id": "55e9e2c7",
   "metadata": {},
   "outputs": [
    {
     "name": "stdout",
     "output_type": "stream",
     "text": [
      "Model: \"sequential_5\"\n",
      "_________________________________________________________________\n",
      " Layer (type)                Output Shape              Param #   \n",
      "=================================================================\n",
      " embedding_5 (Embedding)     (None, 250, 100)          5000000   \n",
      "                                                                 \n",
      " lstm_5 (LSTM)               (None, 250, 32)           17024     \n",
      "                                                                 \n",
      " lstm_6 (LSTM)               (None, 32)                8320      \n",
      "                                                                 \n",
      " dense_13 (Dense)            (None, 100)               3300      \n",
      "                                                                 \n",
      " dense_14 (Dense)            (None, 5)                 505       \n",
      "                                                                 \n",
      "=================================================================\n",
      "Total params: 5,029,149\n",
      "Trainable params: 5,029,149\n",
      "Non-trainable params: 0\n",
      "_________________________________________________________________\n"
     ]
    }
   ],
   "source": [
    "model2 = Sequential()\n",
    "model2.add(Embedding(maxWords, embVec, input_length=features.shape[1]))\n",
    "model2.add(LSTM(32,dropout=0.1,recurrent_dropout=0.5,return_sequences=True))\n",
    "model2.add(LSTM(32,dropout=0.1,recurrent_dropout=0.5,return_sequences=False))\n",
    "model2.add(Dense(100, activation='relu'))\n",
    "model2.add(Dense(5, activation='sigmoid'))\n",
    "model2.compile(optimizer='rmsprop', loss='binary_crossentropy', metrics=['acc'])\n",
    "model2.summary()"
   ]
  },
  {
   "cell_type": "code",
   "execution_count": 39,
   "id": "493640ed",
   "metadata": {},
   "outputs": [
    {
     "name": "stdout",
     "output_type": "stream",
     "text": [
      "Epoch 1/10\n",
      "200/200 [==============================] - 77s 366ms/step - loss: 0.3926 - acc: 0.5130 - val_loss: 0.2530 - val_acc: 0.7006\n",
      "Epoch 2/10\n",
      "200/200 [==============================] - 60s 299ms/step - loss: 0.2143 - acc: 0.7655 - val_loss: 0.2068 - val_acc: 0.7894\n",
      "Epoch 3/10\n",
      "200/200 [==============================] - 59s 294ms/step - loss: 0.1717 - acc: 0.8270 - val_loss: 0.1899 - val_acc: 0.7981\n",
      "Epoch 4/10\n",
      "200/200 [==============================] - 64s 321ms/step - loss: 0.1492 - acc: 0.8503 - val_loss: 0.1874 - val_acc: 0.8044\n",
      "Epoch 5/10\n",
      "200/200 [==============================] - 59s 296ms/step - loss: 0.1320 - acc: 0.8673 - val_loss: 0.1940 - val_acc: 0.8087\n",
      "Epoch 6/10\n",
      "200/200 [==============================] - 72s 359ms/step - loss: 0.1157 - acc: 0.8855 - val_loss: 0.2056 - val_acc: 0.8163\n",
      "Epoch 7/10\n",
      "200/200 [==============================] - 76s 380ms/step - loss: 0.1008 - acc: 0.9061 - val_loss: 0.2254 - val_acc: 0.8119\n",
      "Epoch 8/10\n",
      "200/200 [==============================] - 68s 341ms/step - loss: 0.0910 - acc: 0.9152 - val_loss: 0.2181 - val_acc: 0.8112\n",
      "Epoch 9/10\n",
      "200/200 [==============================] - 67s 336ms/step - loss: 0.0791 - acc: 0.9278 - val_loss: 0.2217 - val_acc: 0.8037\n",
      "Epoch 10/10\n",
      "200/200 [==============================] - 56s 279ms/step - loss: 0.0709 - acc: 0.9348 - val_loss: 0.2338 - val_acc: 0.8062\n"
     ]
    }
   ],
   "source": [
    "history2 = model2.fit(X_train, y_train, epochs=10, validation_split=0.2)"
   ]
  },
  {
   "cell_type": "code",
   "execution_count": 40,
   "id": "e9d938af",
   "metadata": {},
   "outputs": [
    {
     "data": {
      "text/plain": [
       "<matplotlib.legend.Legend at 0x1adb13f6580>"
      ]
     },
     "execution_count": 40,
     "metadata": {},
     "output_type": "execute_result"
    },
    {
     "data": {
      "image/png": "[encoded data removed]",
      "text/plain": [
       "<Figure size 432x288 with 1 Axes>"
      ]
     },
     "metadata": {},
     "output_type": "display_data"
    }
   ],
   "source": [
    "plt.style.use(\"ggplot\")\n",
    "plt.figure()\n",
    "plt.plot(np.arange(0, 10), history2.history[\"loss\"], label=\"train_loss\")\n",
    "plt.plot(np.arange(0, 10), history2.history[\"val_loss\"], label=\"val_loss\")\n",
    "plt.plot(np.arange(0, 10), history2.history[\"acc\"], label=\"train_acc\")\n",
    "plt.plot(np.arange(0, 10), history2.history[\"val_acc\"], label=\"val_acc\")\n",
    "plt.title(\"Training Loss and Accuracy\")\n",
    "plt.xlabel(\"Epoch #\")\n",
    "plt.ylabel(\"Loss/Accuracy\")\n",
    "plt.legend(loc=\"lower left\")"
   ]
  },
  {
   "cell_type": "code",
   "execution_count": 41,
   "id": "485a3da9",
   "metadata": {},
   "outputs": [
    {
     "name": "stdout",
     "output_type": "stream",
     "text": [
      "100/100 - 4s - loss: 0.2531 - acc: 0.7930 - 4s/epoch - 42ms/step\n"
     ]
    },
    {
     "data": {
      "text/plain": [
       "[0.25312358140945435, 0.7929999828338623]"
      ]
     },
     "execution_count": 41,
     "metadata": {},
     "output_type": "execute_result"
    }
   ],
   "source": [
    "model2.evaluate(X_test, y_test, batch_size=20, verbose=2)    #[0.25312358140945435, 0.7929999828338623]"
   ]
  },
  {
   "cell_type": "code",
   "execution_count": 42,
   "id": "b6c7e2c8",
   "metadata": {},
   "outputs": [
    {
     "name": "stdout",
     "output_type": "stream",
     "text": [
      "Model: \"sequential_6\"\n",
      "_________________________________________________________________\n",
      " Layer (type)                Output Shape              Param #   \n",
      "=================================================================\n",
      " embedding_6 (Embedding)     (None, 250, 100)          5000000   \n",
      "                                                                 \n",
      " spatial_dropout1d_1 (Spatia  (None, 250, 100)         0         \n",
      " lDropout1D)                                                     \n",
      "                                                                 \n",
      " lstm_7 (LSTM)               (None, 100)               80400     \n",
      "                                                                 \n",
      " dense_15 (Dense)            (None, 5)                 505       \n",
      "                                                                 \n",
      "=================================================================\n",
      "Total params: 5,080,905\n",
      "Trainable params: 5,080,905\n",
      "Non-trainable params: 0\n",
      "_________________________________________________________________\n",
      "None\n"
     ]
    }
   ],
   "source": [
    "model3 = Sequential()\n",
    "model3.add(Embedding(maxWords, embVec, input_length=features.shape[1]))\n",
    "model3.add(SpatialDropout1D(0.2))\n",
    "model3.add(LSTM(100, dropout=0.2, recurrent_dropout=0.2))\n",
    "model3.add(Dense(5, activation='softmax'))\n",
    "model3.compile(loss='categorical_crossentropy', optimizer='rmsprop', metrics=['accuracy'])\n",
    "print(model3.summary())"
   ]
  },
  {
   "cell_type": "code",
   "execution_count": 43,
   "id": "a6672dfc",
   "metadata": {},
   "outputs": [
    {
     "name": "stdout",
     "output_type": "stream",
     "text": [
      "Epoch 1/5\n",
      "200/200 [==============================] - 104s 511ms/step - loss: 0.9803 - accuracy: 0.6164 - val_loss: 0.6648 - val_accuracy: 0.7525\n",
      "Epoch 2/5\n",
      "200/200 [==============================] - 109s 543ms/step - loss: 0.5815 - accuracy: 0.7925 - val_loss: 0.5974 - val_accuracy: 0.7912\n",
      "Epoch 3/5\n",
      "200/200 [==============================] - 109s 547ms/step - loss: 0.4698 - accuracy: 0.8347 - val_loss: 0.5186 - val_accuracy: 0.8138\n",
      "Epoch 4/5\n",
      "200/200 [==============================] - 112s 559ms/step - loss: 0.3882 - accuracy: 0.8667 - val_loss: 0.4938 - val_accuracy: 0.8369\n",
      "Epoch 5/5\n",
      "200/200 [==============================] - 109s 543ms/step - loss: 0.3161 - accuracy: 0.8900 - val_loss: 0.5133 - val_accuracy: 0.8394\n"
     ]
    }
   ],
   "source": [
    "history3 = model3.fit(X_train, y_train, epochs=5, validation_split=0.2)"
   ]
  },
  {
   "cell_type": "code",
   "execution_count": 44,
   "id": "27059751",
   "metadata": {
    "scrolled": true
   },
   "outputs": [
    {
     "data": {
      "text/plain": [
       "<matplotlib.legend.Legend at 0x1ad86fabc70>"
      ]
     },
     "execution_count": 44,
     "metadata": {},
     "output_type": "execute_result"
    },
    {
     "data": {
      "image/png": "[encoded data removed]",
      "text/plain": [
       "<Figure size 432x288 with 1 Axes>"
      ]
     },
     "metadata": {},
     "output_type": "display_data"
    }
   ],
   "source": [
    "plt.style.use(\"ggplot\")\n",
    "plt.figure()\n",
    "plt.plot(np.arange(0, 5), history3.history[\"loss\"], label=\"train_loss\")\n",
    "plt.plot(np.arange(0, 5), history3.history[\"val_loss\"], label=\"val_loss\")\n",
    "plt.plot(np.arange(0, 5), history3.history[\"accuracy\"], label=\"train_acc\")\n",
    "plt.plot(np.arange(0, 5), history3.history[\"val_accuracy\"], label=\"val_acc\")\n",
    "plt.title(\"Training Loss and Accuracy\")\n",
    "plt.xlabel(\"Epoch #\")\n",
    "plt.ylabel(\"Loss/Accuracy\")\n",
    "plt.legend(loc=\"lower left\")"
   ]
  },
  {
   "cell_type": "code",
   "execution_count": 48,
   "id": "4b299a87",
   "metadata": {},
   "outputs": [
    {
     "name": "stdout",
     "output_type": "stream",
     "text": [
      "100/100 - 10s - loss: 0.5367 - accuracy: 0.8280 - 10s/epoch - 102ms/step\n"
     ]
    },
    {
     "data": {
      "text/plain": [
       "[0.5366653203964233, 0.828000009059906]"
      ]
     },
     "execution_count": 48,
     "metadata": {},
     "output_type": "execute_result"
    }
   ],
   "source": [
    "model3.evaluate(X_test, y_test, batch_size=20, verbose=2)   #[0.5366653203964233, 0.828000009059906]"
   ]
  },
  {
   "cell_type": "code",
   "execution_count": 53,
   "id": "06aa51bf",
   "metadata": {
    "scrolled": true
   },
   "outputs": [
    {
     "name": "stdout",
     "output_type": "stream",
     "text": [
      "Model: \"sequential_9\"\n",
      "_________________________________________________________________\n",
      " Layer (type)                Output Shape              Param #   \n",
      "=================================================================\n",
      " embedding_9 (Embedding)     (None, 250, 100)          5000000   \n",
      "                                                                 \n",
      " lstm_12 (LSTM)              (None, 250, 32)           17024     \n",
      "                                                                 \n",
      " lstm_13 (LSTM)              (None, 32)                8320      \n",
      "                                                                 \n",
      " dense_20 (Dense)            (None, 100)               3300      \n",
      "                                                                 \n",
      " dense_21 (Dense)            (None, 5)                 505       \n",
      "                                                                 \n",
      "=================================================================\n",
      "Total params: 5,029,149\n",
      "Trainable params: 5,029,149\n",
      "Non-trainable params: 0\n",
      "_________________________________________________________________\n"
     ]
    }
   ],
   "source": [
    "model4 = Sequential()\n",
    "model4.add(Embedding(maxWords, embVec, input_length=features.shape[1]))\n",
    "model4.add(LSTM(32,dropout=0.1,recurrent_dropout=0.5,return_sequences=True))\n",
    "model4.add(LSTM(32,dropout=0.1,recurrent_dropout=0.5,return_sequences=False))\n",
    "model4.add(Dense(100, activation='relu'))\n",
    "model4.add(Dense(5, activation='sigmoid'))\n",
    "model4.compile(optimizer='adam', loss='binary_crossentropy', metrics=['accuracy'])\n",
    "model4.summary()"
   ]
  },
  {
   "cell_type": "code",
   "execution_count": 54,
   "id": "808f1c8a",
   "metadata": {},
   "outputs": [
    {
     "name": "stdout",
     "output_type": "stream",
     "text": [
      "Epoch 1/7\n",
      "200/200 [==============================] - 77s 368ms/step - loss: 0.4523 - accuracy: 0.4058 - val_loss: 0.3308 - val_accuracy: 0.6431\n",
      "Epoch 2/7\n",
      "200/200 [==============================] - 68s 339ms/step - loss: 0.2567 - accuracy: 0.7236 - val_loss: 0.2262 - val_accuracy: 0.7275\n",
      "Epoch 3/7\n",
      "200/200 [==============================] - 67s 336ms/step - loss: 0.1850 - accuracy: 0.7967 - val_loss: 0.2164 - val_accuracy: 0.7669\n",
      "Epoch 4/7\n",
      "200/200 [==============================] - 67s 333ms/step - loss: 0.1473 - accuracy: 0.8503 - val_loss: 0.2040 - val_accuracy: 0.8006\n",
      "Epoch 5/7\n",
      "200/200 [==============================] - 66s 332ms/step - loss: 0.1174 - accuracy: 0.8817 - val_loss: 0.2282 - val_accuracy: 0.7987\n",
      "Epoch 6/7\n",
      "200/200 [==============================] - 65s 326ms/step - loss: 0.0902 - accuracy: 0.9148 - val_loss: 0.2322 - val_accuracy: 0.8006\n",
      "Epoch 7/7\n",
      "200/200 [==============================] - 65s 327ms/step - loss: 0.0718 - accuracy: 0.9369 - val_loss: 0.2530 - val_accuracy: 0.8125\n"
     ]
    }
   ],
   "source": [
    "history4 = model4.fit(X_train, y_train, epochs=7, validation_split=0.2)"
   ]
  },
  {
   "cell_type": "code",
   "execution_count": 56,
   "id": "fb0701b0",
   "metadata": {},
   "outputs": [
    {
     "data": {
      "text/plain": [
       "<matplotlib.legend.Legend at 0x1adae3d35b0>"
      ]
     },
     "execution_count": 56,
     "metadata": {},
     "output_type": "execute_result"
    },
    {
     "data": {
      "image/png": "[encoded data removed]",
      "text/plain": [
       "<Figure size 432x288 with 1 Axes>"
      ]
     },
     "metadata": {},
     "output_type": "display_data"
    }
   ],
   "source": [
    "plt.style.use(\"ggplot\")\n",
    "plt.figure()\n",
    "plt.plot(np.arange(0, 7), history4.history[\"loss\"], label=\"train_loss\")\n",
    "plt.plot(np.arange(0, 7), history4.history[\"val_loss\"], label=\"val_loss\")\n",
    "plt.plot(np.arange(0, 7), history4.history[\"accuracy\"], label=\"train_acc\")\n",
    "plt.plot(np.arange(0, 7), history4.history[\"val_accuracy\"], label=\"val_acc\")\n",
    "plt.title(\"Training Loss and Accuracy\")\n",
    "plt.xlabel(\"Epoch #\")\n",
    "plt.ylabel(\"Loss/Accuracy\")\n",
    "plt.legend(loc=\"lower left\")"
   ]
  },
  {
   "cell_type": "code",
   "execution_count": 57,
   "id": "8f226e71",
   "metadata": {},
   "outputs": [
    {
     "name": "stdout",
     "output_type": "stream",
     "text": [
      "100/100 - 4s - loss: 0.2583 - accuracy: 0.7975 - 4s/epoch - 43ms/step\n"
     ]
    },
    {
     "data": {
      "text/plain": [
       "[0.25827130675315857, 0.7975000143051147]"
      ]
     },
     "execution_count": 57,
     "metadata": {},
     "output_type": "execute_result"
    }
   ],
   "source": [
    "model4.evaluate(X_test, y_test, batch_size=20, verbose=2)    #[0.25827130675315857, 0.7975000143051147]"
   ]
  },
  {
   "cell_type": "code",
   "execution_count": 58,
   "id": "b7eb38ee",
   "metadata": {},
   "outputs": [
    {
     "name": "stdout",
     "output_type": "stream",
     "text": [
      "Model: \"sequential_10\"\n",
      "_________________________________________________________________\n",
      " Layer (type)                Output Shape              Param #   \n",
      "=================================================================\n",
      " embedding_10 (Embedding)    (None, 250, 100)          5000000   \n",
      "                                                                 \n",
      " spatial_dropout1d_2 (Spatia  (None, 250, 100)         0         \n",
      " lDropout1D)                                                     \n",
      "                                                                 \n",
      " lstm_14 (LSTM)              (None, 100)               80400     \n",
      "                                                                 \n",
      " dense_22 (Dense)            (None, 5)                 505       \n",
      "                                                                 \n",
      "=================================================================\n",
      "Total params: 5,080,905\n",
      "Trainable params: 5,080,905\n",
      "Non-trainable params: 0\n",
      "_________________________________________________________________\n",
      "None\n"
     ]
    }
   ],
   "source": [
    "model5 = Sequential()\n",
    "model5.add(Embedding(maxWords, embVec, input_length=features.shape[1]))\n",
    "model5.add(SpatialDropout1D(0.2))\n",
    "model5.add(LSTM(100, dropout=0.2, recurrent_dropout=0.2))\n",
    "model5.add(Dense(5, activation='softmax'))\n",
    "model5.compile(loss='categorical_crossentropy', optimizer='rmsprop', metrics=['accuracy'])\n",
    "print(model5.summary())"
   ]
  },
  {
   "cell_type": "code",
   "execution_count": 59,
   "id": "87e276e7",
   "metadata": {},
   "outputs": [
    {
     "name": "stdout",
     "output_type": "stream",
     "text": [
      "Epoch 1/7\n",
      "200/200 [==============================] - 132s 644ms/step - loss: 0.9849 - accuracy: 0.6108 - val_loss: 0.6642 - val_accuracy: 0.7644\n",
      "Epoch 2/7\n",
      "200/200 [==============================] - 126s 628ms/step - loss: 0.5678 - accuracy: 0.7987 - val_loss: 0.5814 - val_accuracy: 0.8031\n",
      "Epoch 3/7\n",
      "200/200 [==============================] - 127s 634ms/step - loss: 0.4568 - accuracy: 0.8394 - val_loss: 0.4914 - val_accuracy: 0.8250\n",
      "Epoch 4/7\n",
      "200/200 [==============================] - 126s 628ms/step - loss: 0.3736 - accuracy: 0.8714 - val_loss: 0.4939 - val_accuracy: 0.8350\n",
      "Epoch 5/7\n",
      "200/200 [==============================] - 126s 628ms/step - loss: 0.3124 - accuracy: 0.8927 - val_loss: 0.5024 - val_accuracy: 0.8462\n",
      "Epoch 6/7\n",
      "200/200 [==============================] - 125s 623ms/step - loss: 0.2617 - accuracy: 0.9097 - val_loss: 0.5072 - val_accuracy: 0.8388\n",
      "Epoch 7/7\n",
      "200/200 [==============================] - 125s 626ms/step - loss: 0.2206 - accuracy: 0.9255 - val_loss: 0.5133 - val_accuracy: 0.8356\n"
     ]
    }
   ],
   "source": [
    "history5 = model5.fit(X_train, y_train, epochs=7, validation_split=0.2)"
   ]
  },
  {
   "cell_type": "code",
   "execution_count": 60,
   "id": "4447158f",
   "metadata": {},
   "outputs": [
    {
     "data": {
      "text/plain": [
       "<matplotlib.legend.Legend at 0x1ad8978f520>"
      ]
     },
     "execution_count": 60,
     "metadata": {},
     "output_type": "execute_result"
    },
    {
     "data": {
      "image/png": "[encoded data removed]",
      "text/plain": [
       "<Figure size 432x288 with 1 Axes>"
      ]
     },
     "metadata": {},
     "output_type": "display_data"
    }
   ],
   "source": [
    "plt.style.use(\"ggplot\")\n",
    "plt.figure()\n",
    "plt.plot(np.arange(0, 7), history5.history[\"loss\"], label=\"train_loss\")\n",
    "plt.plot(np.arange(0, 7), history5.history[\"val_loss\"], label=\"val_loss\")\n",
    "plt.plot(np.arange(0, 7), history5.history[\"accuracy\"], label=\"train_acc\")\n",
    "plt.plot(np.arange(0, 7), history5.history[\"val_accuracy\"], label=\"val_acc\")\n",
    "plt.title(\"Training Loss and Accuracy\")\n",
    "plt.xlabel(\"Epoch #\")\n",
    "plt.ylabel(\"Loss/Accuracy\")\n",
    "plt.legend(loc=\"lower left\")"
   ]
  },
  {
   "cell_type": "code",
   "execution_count": 61,
   "id": "2e7e720e",
   "metadata": {},
   "outputs": [
    {
     "name": "stdout",
     "output_type": "stream",
     "text": [
      "100/100 - 13s - loss: 0.5510 - accuracy: 0.8255 - 13s/epoch - 130ms/step\n"
     ]
    },
    {
     "data": {
      "text/plain": [
       "[0.5509871244430542, 0.8255000114440918]"
      ]
     },
     "execution_count": 61,
     "metadata": {},
     "output_type": "execute_result"
    }
   ],
   "source": [
    "model5.evaluate(X_test, y_test, batch_size=20, verbose=2)    #[0.5509871244430542, 0.8255000114440918]"
   ]
  },
  {
   "cell_type": "code",
   "execution_count": 62,
   "id": "2cae12aa",
   "metadata": {},
   "outputs": [
    {
     "name": "stdout",
     "output_type": "stream",
     "text": [
      "Model: \"sequential_11\"\n",
      "_________________________________________________________________\n",
      " Layer (type)                Output Shape              Param #   \n",
      "=================================================================\n",
      " embedding_11 (Embedding)    (None, 250, 100)          5000000   \n",
      "                                                                 \n",
      " spatial_dropout1d_3 (Spatia  (None, 250, 100)         0         \n",
      " lDropout1D)                                                     \n",
      "                                                                 \n",
      " lstm_15 (LSTM)              (None, 100)               80400     \n",
      "                                                                 \n",
      " dense_23 (Dense)            (None, 5)                 505       \n",
      "                                                                 \n",
      "=================================================================\n",
      "Total params: 5,080,905\n",
      "Trainable params: 5,080,905\n",
      "Non-trainable params: 0\n",
      "_________________________________________________________________\n",
      "None\n"
     ]
    }
   ],
   "source": [
    "model6 = Sequential()\n",
    "model6.add(Embedding(maxWords, embVec, input_length=features.shape[1]))\n",
    "model6.add(SpatialDropout1D(0.2))\n",
    "model6.add(LSTM(100, dropout=0.2, recurrent_dropout=0.2))\n",
    "model6.add(Dense(5, activation='sigmoid'))\n",
    "model6.compile(loss='binary_crossentropy', optimizer='adam', metrics=['accuracy'])\n",
    "print(model6.summary())"
   ]
  },
  {
   "cell_type": "code",
   "execution_count": 63,
   "id": "cf4c8729",
   "metadata": {},
   "outputs": [
    {
     "name": "stdout",
     "output_type": "stream",
     "text": [
      "Epoch 1/7\n",
      "200/200 [==============================] - 132s 650ms/step - loss: 0.3776 - accuracy: 0.5550 - val_loss: 0.2644 - val_accuracy: 0.7219\n",
      "Epoch 2/7\n",
      "200/200 [==============================] - 147s 738ms/step - loss: 0.2057 - accuracy: 0.7817 - val_loss: 0.1857 - val_accuracy: 0.8169\n",
      "Epoch 3/7\n",
      "200/200 [==============================] - 132s 658ms/step - loss: 0.1466 - accuracy: 0.8573 - val_loss: 0.1798 - val_accuracy: 0.8175\n",
      "Epoch 4/7\n",
      "200/200 [==============================] - 134s 672ms/step - loss: 0.1100 - accuracy: 0.8914 - val_loss: 0.1886 - val_accuracy: 0.8138\n",
      "Epoch 5/7\n",
      "200/200 [==============================] - 131s 656ms/step - loss: 0.0824 - accuracy: 0.9237 - val_loss: 0.2180 - val_accuracy: 0.8044\n",
      "Epoch 6/7\n",
      "200/200 [==============================] - 163s 814ms/step - loss: 0.0636 - accuracy: 0.9450 - val_loss: 0.2240 - val_accuracy: 0.8100\n",
      "Epoch 7/7\n",
      "200/200 [==============================] - 151s 756ms/step - loss: 0.0463 - accuracy: 0.9627 - val_loss: 0.2395 - val_accuracy: 0.8062\n"
     ]
    }
   ],
   "source": [
    "history6 = model6.fit(X_train, y_train, epochs=7, validation_split=0.2)"
   ]
  },
  {
   "cell_type": "code",
   "execution_count": 64,
   "id": "3e2b7975",
   "metadata": {},
   "outputs": [
    {
     "data": {
      "text/plain": [
       "<matplotlib.legend.Legend at 0x1ad94c7f790>"
      ]
     },
     "execution_count": 64,
     "metadata": {},
     "output_type": "execute_result"
    },
    {
     "data": {
      "image/png": "[encoded data removed]",
      "text/plain": [
       "<Figure size 432x288 with 1 Axes>"
      ]
     },
     "metadata": {},
     "output_type": "display_data"
    }
   ],
   "source": [
    "plt.style.use(\"ggplot\")\n",
    "plt.figure()\n",
    "plt.plot(np.arange(0, 7), history6.history[\"loss\"], label=\"train_loss\")\n",
    "plt.plot(np.arange(0, 7), history6.history[\"val_loss\"], label=\"val_loss\")\n",
    "plt.plot(np.arange(0, 7), history6.history[\"accuracy\"], label=\"train_acc\")\n",
    "plt.plot(np.arange(0, 7), history6.history[\"val_accuracy\"], label=\"val_acc\")\n",
    "plt.title(\"Training Loss and Accuracy\")\n",
    "plt.xlabel(\"Epoch #\")\n",
    "plt.ylabel(\"Loss/Accuracy\")\n",
    "plt.legend(loc=\"lower left\")"
   ]
  },
  {
   "cell_type": "code",
   "execution_count": 65,
   "id": "129ea037",
   "metadata": {},
   "outputs": [
    {
     "name": "stdout",
     "output_type": "stream",
     "text": [
      "100/100 - 13s - loss: 0.2340 - accuracy: 0.8155 - 13s/epoch - 126ms/step\n"
     ]
    },
    {
     "data": {
      "text/plain": [
       "[0.23404571413993835, 0.815500020980835]"
      ]
     },
     "execution_count": 65,
     "metadata": {},
     "output_type": "execute_result"
    }
   ],
   "source": [
    "model6.evaluate(X_test, y_test, batch_size=20, verbose=2)   #[0.23404571413993835, 0.815500020980835]"
   ]
  },
  {
   "cell_type": "code",
   "execution_count": null,
   "id": "53d49929",
   "metadata": {},
   "outputs": [],
   "source": []
  }
 ],
 "metadata": {
  "kernelspec": {
   "display_name": "Python 3 (ipykernel)",
   "language": "python",
   "name": "python3"
  },
  "language_info": {
   "codemirror_mode": {
    "name": "ipython",
    "version": 3
   },
   "file_extension": ".py",
   "mimetype": "text/x-python",
   "name": "python",
   "nbconvert_exporter": "python",
   "pygments_lexer": "ipython3",
   "version": "3.8.5"
  }
 },
 "nbformat": 4,
 "nbformat_minor": 5
}
