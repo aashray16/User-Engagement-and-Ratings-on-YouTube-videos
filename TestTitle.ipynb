{
 "cells": [
  {
   "cell_type": "code",
   "execution_count": 5,
   "id": "77b3fb2e",
   "metadata": {},
   "outputs": [],
   "source": [
    "from tensorflow import keras\n",
    "import pickle\n",
    "from tensorflow.keras.preprocessing import sequence\n"
   ]
  },
  {
   "cell_type": "code",
   "execution_count": 2,
   "id": "b6853751",
   "metadata": {},
   "outputs": [],
   "source": [
    "with open('titletokenizer.pickle', 'rb') as handle:\n",
    "    tokenizer = pickle.load(handle)"
   ]
  },
  {
   "cell_type": "code",
   "execution_count": 3,
   "id": "62802b18",
   "metadata": {},
   "outputs": [],
   "source": [
    "model = keras.models.load_model(\"titleFinal.h5\")"
   ]
  },
  {
   "cell_type": "code",
   "execution_count": 6,
   "id": "72723608",
   "metadata": {},
   "outputs": [],
   "source": [
    "text = \"This will make your life easier\"\n",
    "txt = tokenizer.texts_to_sequences([text])\n",
    "txt = sequence.pad_sequences(txt, maxlen=200)\n",
    "pred = (model.predict(txt))"
   ]
  },
  {
   "cell_type": "code",
   "execution_count": 13,
   "id": "a962bb20",
   "metadata": {},
   "outputs": [
    {
     "data": {
      "text/plain": [
       "9.7"
      ]
     },
     "execution_count": 13,
     "metadata": {},
     "output_type": "execute_result"
    }
   ],
   "source": [
    "round(pred[0][0]*10,1)"
   ]
  },
  {
   "cell_type": "code",
   "execution_count": null,
   "id": "50248bf0",
   "metadata": {},
   "outputs": [],
   "source": []
  }
 ],
 "metadata": {
  "kernelspec": {
   "display_name": "Python YT-env",
   "language": "python",
   "name": "yt-env"
  },
  "language_info": {
   "codemirror_mode": {
    "name": "ipython",
    "version": 3
   },
   "file_extension": ".py",
   "mimetype": "text/x-python",
   "name": "python",
   "nbconvert_exporter": "python",
   "pygments_lexer": "ipython3",
   "version": "3.8.5"
  }
 },
 "nbformat": 4,
 "nbformat_minor": 5
}
