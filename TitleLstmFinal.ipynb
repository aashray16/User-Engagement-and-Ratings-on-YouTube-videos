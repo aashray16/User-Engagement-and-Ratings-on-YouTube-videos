{
 "cells": [
  {
   "cell_type": "code",
   "execution_count": 1,
   "id": "77e73dca",
   "metadata": {},
   "outputs": [],
   "source": [
    "import pandas as pd\n",
    "import numpy as np\n",
    "from tensorflow.keras import layers\n",
    "from tensorflow.keras import Input\n",
    "from tensorflow.keras.models import Model\n",
    "from tensorflow.keras.preprocessing import sequence\n",
    "from tensorflow.keras.preprocessing.text import Tokenizer\n",
    "import matplotlib.pyplot as plt\n",
    "import pickle\n",
    "from sklearn.model_selection import train_test_split"
   ]
  },
  {
   "cell_type": "code",
   "execution_count": 2,
   "id": "91600cf2",
   "metadata": {},
   "outputs": [],
   "source": [
    "df = pd.read_csv(\"TitleDataSet\\clickbait_data.csv\")"
   ]
  },
  {
   "cell_type": "code",
   "execution_count": 3,
   "id": "4bcbedcb",
   "metadata": {},
   "outputs": [
    {
     "data": {
      "text/plain": [
       "clickbait\n",
       "0    16001\n",
       "1    15999\n",
       "dtype: int64"
      ]
     },
     "execution_count": 3,
     "metadata": {},
     "output_type": "execute_result"
    }
   ],
   "source": [
    "df.groupby('clickbait').size()"
   ]
  },
  {
   "cell_type": "code",
   "execution_count": 3,
   "id": "a202fb68",
   "metadata": {},
   "outputs": [
    {
     "name": "stdout",
     "output_type": "stream",
     "text": [
      "Found 400000 word vectors.\n"
     ]
    }
   ],
   "source": [
    "embeddings_index = {}\n",
    "f = open('TitleDataSet\\glove.6B.100d.txt',encoding=\"utf\")\n",
    "for line in f:\n",
    "    values = line.split()\n",
    "    word = values[0]\n",
    "    coefs = np.asarray(values[1:], dtype='float32')\n",
    "    embeddings_index[word] = coefs\n",
    "f.close()\n",
    "print('Found %s word vectors.' % len(embeddings_index))"
   ]
  },
  {
   "cell_type": "code",
   "execution_count": 4,
   "id": "0dd1928b",
   "metadata": {
    "scrolled": true
   },
   "outputs": [
    {
     "data": {
      "text/html": [
       "<div>\n",
       "<style scoped>\n",
       "    .dataframe tbody tr th:only-of-type {\n",
       "        vertical-align: middle;\n",
       "    }\n",
       "\n",
       "    .dataframe tbody tr th {\n",
       "        vertical-align: top;\n",
       "    }\n",
       "\n",
       "    .dataframe thead th {\n",
       "        text-align: right;\n",
       "    }\n",
       "</style>\n",
       "<table border=\"1\" class=\"dataframe\">\n",
       "  <thead>\n",
       "    <tr style=\"text-align: right;\">\n",
       "      <th></th>\n",
       "      <th>headline</th>\n",
       "      <th>clickbait</th>\n",
       "    </tr>\n",
       "  </thead>\n",
       "  <tbody>\n",
       "    <tr>\n",
       "      <th>0</th>\n",
       "      <td>Should I Get Bings</td>\n",
       "      <td>1</td>\n",
       "    </tr>\n",
       "    <tr>\n",
       "      <th>1</th>\n",
       "      <td>Which TV Female Friend Group Do You Belong In</td>\n",
       "      <td>1</td>\n",
       "    </tr>\n",
       "    <tr>\n",
       "      <th>2</th>\n",
       "      <td>The New \"Star Wars: The Force Awakens\" Trailer...</td>\n",
       "      <td>1</td>\n",
       "    </tr>\n",
       "    <tr>\n",
       "      <th>3</th>\n",
       "      <td>This Vine Of New York On \"Celebrity Big Brothe...</td>\n",
       "      <td>1</td>\n",
       "    </tr>\n",
       "    <tr>\n",
       "      <th>4</th>\n",
       "      <td>A Couple Did A Stunning Photo Shoot With Their...</td>\n",
       "      <td>1</td>\n",
       "    </tr>\n",
       "    <tr>\n",
       "      <th>...</th>\n",
       "      <td>...</td>\n",
       "      <td>...</td>\n",
       "    </tr>\n",
       "    <tr>\n",
       "      <th>31995</th>\n",
       "      <td>To Make Female Hearts Flutter in Iraq, Throw a...</td>\n",
       "      <td>0</td>\n",
       "    </tr>\n",
       "    <tr>\n",
       "      <th>31996</th>\n",
       "      <td>British Liberal Democrat Patsy Calton, 56, die...</td>\n",
       "      <td>0</td>\n",
       "    </tr>\n",
       "    <tr>\n",
       "      <th>31997</th>\n",
       "      <td>Drone smartphone app to help heart attack vict...</td>\n",
       "      <td>0</td>\n",
       "    </tr>\n",
       "    <tr>\n",
       "      <th>31998</th>\n",
       "      <td>Netanyahu Urges Pope Benedict, in Israel, to D...</td>\n",
       "      <td>0</td>\n",
       "    </tr>\n",
       "    <tr>\n",
       "      <th>31999</th>\n",
       "      <td>Computer Makers Prepare to Stake Bigger Claim ...</td>\n",
       "      <td>0</td>\n",
       "    </tr>\n",
       "  </tbody>\n",
       "</table>\n",
       "<p>32000 rows × 2 columns</p>\n",
       "</div>"
      ],
      "text/plain": [
       "                                                headline  clickbait\n",
       "0                                     Should I Get Bings          1\n",
       "1          Which TV Female Friend Group Do You Belong In          1\n",
       "2      The New \"Star Wars: The Force Awakens\" Trailer...          1\n",
       "3      This Vine Of New York On \"Celebrity Big Brothe...          1\n",
       "4      A Couple Did A Stunning Photo Shoot With Their...          1\n",
       "...                                                  ...        ...\n",
       "31995  To Make Female Hearts Flutter in Iraq, Throw a...          0\n",
       "31996  British Liberal Democrat Patsy Calton, 56, die...          0\n",
       "31997  Drone smartphone app to help heart attack vict...          0\n",
       "31998  Netanyahu Urges Pope Benedict, in Israel, to D...          0\n",
       "31999  Computer Makers Prepare to Stake Bigger Claim ...          0\n",
       "\n",
       "[32000 rows x 2 columns]"
      ]
     },
     "execution_count": 4,
     "metadata": {},
     "output_type": "execute_result"
    }
   ],
   "source": [
    "df"
   ]
  },
  {
   "cell_type": "code",
   "execution_count": 5,
   "id": "97a8adf1",
   "metadata": {},
   "outputs": [],
   "source": [
    "features = df['headline']\n",
    "labels = df['clickbait']"
   ]
  },
  {
   "cell_type": "code",
   "execution_count": 6,
   "id": "d5a2d17c",
   "metadata": {},
   "outputs": [],
   "source": [
    "X_train, X_test, Y_train, Y_test = train_test_split(features, labels, test_size = 0.2)"
   ]
  },
  {
   "cell_type": "code",
   "execution_count": 7,
   "id": "114a5855",
   "metadata": {},
   "outputs": [],
   "source": [
    "tokenizer = Tokenizer()\n",
    "tokenizer.fit_on_texts(X_train.values)\n",
    "sequences = tokenizer.texts_to_sequences(X_train.values)\n",
    "sequences = sequence.pad_sequences(sequences, maxlen=200)"
   ]
  },
  {
   "cell_type": "code",
   "execution_count": 8,
   "id": "f615dcb7",
   "metadata": {},
   "outputs": [
    {
     "data": {
      "text/plain": [
       "(25600, 200)"
      ]
     },
     "execution_count": 8,
     "metadata": {},
     "output_type": "execute_result"
    }
   ],
   "source": [
    "sequences.shape\n"
   ]
  },
  {
   "cell_type": "code",
   "execution_count": 9,
   "id": "6901a3b4",
   "metadata": {},
   "outputs": [],
   "source": [
    "max_words = 22736\n",
    "embedding_dim = 100\n",
    "embedding_matrix = np.zeros((max_words, embedding_dim))\n",
    "for word, i in tokenizer.word_index.items():\n",
    "    if i < max_words:\n",
    "        embedding_vector = embeddings_index.get(word)\n",
    "        if embedding_vector is not None:\n",
    "            embedding_matrix[i] = embedding_vector"
   ]
  },
  {
   "cell_type": "code",
   "execution_count": 10,
   "id": "4426ca0a",
   "metadata": {},
   "outputs": [],
   "source": [
    "baseModel = Input(shape=(None,), dtype='int32', name='headline_input')\n",
    "headModel = layers.Embedding(22736, 100, input_length=200)(baseModel)\n",
    "headModel = layers.LSTM(32,dropout=0.1,recurrent_dropout=0.5,return_sequences=True)(headModel)\n",
    "headModel = layers.LSTM(32,dropout=0.1,recurrent_dropout=0.5,return_sequences=False)(headModel)\n",
    "headModel = layers.Dense(100, activation='relu')(headModel)\n",
    "headModel = layers.Dense(1, activation='sigmoid')(headModel)\n",
    "model = Model(baseModel,headModel)\n",
    "model.layers[1].set_weights([embedding_matrix])\n",
    "model.layers[1].trainable = False\n",
    "model.compile(optimizer='rmsprop', loss='binary_crossentropy', metrics=['acc'])"
   ]
  },
  {
   "cell_type": "code",
   "execution_count": 11,
   "id": "91c05854",
   "metadata": {},
   "outputs": [
    {
     "name": "stdout",
     "output_type": "stream",
     "text": [
      "Model: \"model\"\n",
      "_________________________________________________________________\n",
      " Layer (type)                Output Shape              Param #   \n",
      "=================================================================\n",
      " headline_input (InputLayer)  [(None, None)]           0         \n",
      "                                                                 \n",
      " embedding (Embedding)       (None, None, 100)         2273600   \n",
      "                                                                 \n",
      " lstm (LSTM)                 (None, None, 32)          17024     \n",
      "                                                                 \n",
      " lstm_1 (LSTM)               (None, 32)                8320      \n",
      "                                                                 \n",
      " dense (Dense)               (None, 100)               3300      \n",
      "                                                                 \n",
      " dense_1 (Dense)             (None, 1)                 101       \n",
      "                                                                 \n",
      "=================================================================\n",
      "Total params: 2,302,345\n",
      "Trainable params: 28,745\n",
      "Non-trainable params: 2,273,600\n",
      "_________________________________________________________________\n"
     ]
    }
   ],
   "source": [
    "model.summary()"
   ]
  },
  {
   "cell_type": "code",
   "execution_count": 12,
   "id": "84a031cc",
   "metadata": {
    "scrolled": true
   },
   "outputs": [
    {
     "name": "stdout",
     "output_type": "stream",
     "text": [
      "Epoch 1/5\n",
      "640/640 [==============================] - 144s 215ms/step - loss: 0.1617 - acc: 0.9402 - val_loss: 0.1141 - val_acc: 0.9568\n",
      "Epoch 2/5\n",
      "640/640 [==============================] - 141s 220ms/step - loss: 0.1070 - acc: 0.9599 - val_loss: 0.1109 - val_acc: 0.9549\n",
      "Epoch 3/5\n",
      "640/640 [==============================] - 134s 210ms/step - loss: 0.0862 - acc: 0.9686 - val_loss: 0.0737 - val_acc: 0.9723\n",
      "Epoch 4/5\n",
      "640/640 [==============================] - 123s 192ms/step - loss: 0.0732 - acc: 0.9724 - val_loss: 0.0696 - val_acc: 0.9746\n",
      "Epoch 5/5\n",
      "640/640 [==============================] - 132s 206ms/step - loss: 0.0651 - acc: 0.9762 - val_loss: 0.0689 - val_acc: 0.9750\n"
     ]
    }
   ],
   "source": [
    "history = model.fit(sequences, Y_train.values, epochs=5, validation_split=0.2)"
   ]
  },
  {
   "cell_type": "code",
   "execution_count": 30,
   "id": "6f4e9bcb",
   "metadata": {},
   "outputs": [
    {
     "data": {
      "image/png": "[encoded data removed]",
      "text/plain": [
       "<Figure size 432x288 with 1 Axes>"
      ]
     },
     "metadata": {},
     "output_type": "display_data"
    }
   ],
   "source": [
    "plt.style.use(\"ggplot\")\n",
    "plt.figure()\n",
    "plt.plot(np.arange(0, 5), history.history[\"loss\"], label=\"train_loss\")\n",
    "plt.plot(np.arange(0, 5), history.history[\"val_loss\"], label=\"val_loss\")\n",
    "plt.plot(np.arange(0, 5), history.history[\"acc\"], label=\"train_acc\")\n",
    "plt.plot(np.arange(0, 5), history.history[\"val_acc\"], label=\"val_acc\")\n",
    "plt.title(\"Training Loss and Accuracy\")\n",
    "plt.xlabel(\"Epoch #\")\n",
    "plt.ylabel(\"Loss/Accuracy\")\n",
    "plt.legend(loc=\"lower left\")"
   ]
  },
  {
   "cell_type": "code",
   "execution_count": 16,
   "id": "a34a9f25",
   "metadata": {},
   "outputs": [],
   "source": [
    "sequences = tokenizer.texts_to_sequences(X_test.values)\n",
    "sequences = sequence.pad_sequences(sequences, maxlen=200)\n",
    "X_test = sequences"
   ]
  },
  {
   "cell_type": "code",
   "execution_count": 17,
   "id": "5588e454",
   "metadata": {
    "scrolled": true
   },
   "outputs": [
    {
     "name": "stdout",
     "output_type": "stream",
     "text": [
      "32/32 - 4s - loss: 0.0666 - acc: 0.9739 - 4s/epoch - 116ms/step\n"
     ]
    },
    {
     "data": {
      "text/plain": [
       "[0.0665682777762413, 0.9739062786102295]"
      ]
     },
     "execution_count": 17,
     "metadata": {},
     "output_type": "execute_result"
    }
   ],
   "source": [
    "model.evaluate(X_test, Y_test.values, batch_size=200, verbose=2)    #[0.06678809970617294, 0.9756249785423279]"
   ]
  },
  {
   "cell_type": "code",
   "execution_count": 21,
   "id": "c9365413",
   "metadata": {},
   "outputs": [],
   "source": [
    "with open('titletokenizer.pickle', 'wb') as handle:\n",
    "    pickle.dump(tokenizer, handle, protocol=pickle.HIGHEST_PROTOCOL)"
   ]
  },
  {
   "cell_type": "code",
   "execution_count": 22,
   "id": "fd6dd0fb",
   "metadata": {},
   "outputs": [],
   "source": [
    "def predict(text):\n",
    "    txt = tokenizer.texts_to_sequences([text])\n",
    "    txt = sequence.pad_sequences(txt, maxlen=200)\n",
    "    pred = (model.predict(txt))\n",
    "    print(pred)"
   ]
  },
  {
   "cell_type": "code",
   "execution_count": 27,
   "id": "6f0b3dc7",
   "metadata": {},
   "outputs": [
    {
     "name": "stdout",
     "output_type": "stream",
     "text": [
      "[[0.9450431]]\n"
     ]
    }
   ],
   "source": [
    "predict(\"This will make your life easier\")"
   ]
  },
  {
   "cell_type": "code",
   "execution_count": 29,
   "id": "28a7873d",
   "metadata": {},
   "outputs": [
    {
     "name": "stdout",
     "output_type": "stream",
     "text": [
      "[[0.9948083]]\n"
     ]
    }
   ],
   "source": [
    "predict(\"This is how I Cracked AMAZON Off-Campus Interview!!!\")"
   ]
  },
  {
   "cell_type": "code",
   "execution_count": 25,
   "id": "0cb59b08",
   "metadata": {},
   "outputs": [
    {
     "name": "stdout",
     "output_type": "stream",
     "text": [
      "[[0.99685585]]\n"
     ]
    }
   ],
   "source": [
    "predict(\"You will never feel the same\")"
   ]
  },
  {
   "cell_type": "code",
   "execution_count": 26,
   "id": "16ba79e5",
   "metadata": {
    "scrolled": true
   },
   "outputs": [
    {
     "name": "stdout",
     "output_type": "stream",
     "text": [
      "[[0.01242959]]\n"
     ]
    }
   ],
   "source": [
    "predict(\"Cracked AMAZON Off-Campus Interview!!!\")"
   ]
  },
  {
   "cell_type": "code",
   "execution_count": null,
   "id": "305a8b86",
   "metadata": {},
   "outputs": [],
   "source": []
  }
 ],
 "metadata": {
  "kernelspec": {
   "display_name": "Python YT-env",
   "language": "python",
   "name": "yt-env"
  },
  "language_info": {
   "codemirror_mode": {
    "name": "ipython",
    "version": 3
   },
   "file_extension": ".py",
   "mimetype": "text/x-python",
   "name": "python",
   "nbconvert_exporter": "python",
   "pygments_lexer": "ipython3",
   "version": "3.8.5"
  }
 },
 "nbformat": 4,
 "nbformat_minor": 5
}
