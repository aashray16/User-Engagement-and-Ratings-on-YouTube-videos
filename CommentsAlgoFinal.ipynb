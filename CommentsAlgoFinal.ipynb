{
 "cells": [
  {
   "cell_type": "code",
   "execution_count": 1,
   "id": "fb184324",
   "metadata": {},
   "outputs": [],
   "source": [
    "import pandas as pd\n",
    "import numpy as np\n",
    "import re\n",
    "import nltk\n",
    "import math \n",
    "from collections import Counter\n",
    "import matplotlib.pyplot as plt\n",
    "from autocorrect import Speller\n",
    "from nltk.corpus import stopwords\n",
    "from sklearn.linear_model import LogisticRegression\n",
    "from sklearn.ensemble import RandomForestClassifier\n",
    "from sklearn.naive_bayes import MultinomialNB\n",
    "from sklearn.svm import SVC\n",
    "from sklearn import preprocessing\n",
    "from sklearn.model_selection import cross_val_score\n",
    "from sklearn.metrics import classification_report\n",
    "from keras.preprocessing.text import Tokenizer\n",
    "from nltk import pos_tag\n",
    "from nltk.tokenize import word_tokenize\n",
    "from sklearn.metrics import accuracy_score"
   ]
  },
  {
   "cell_type": "code",
   "execution_count": 2,
   "id": "51a8b7c0",
   "metadata": {},
   "outputs": [],
   "source": [
    "df = pd.read_csv('TitleDataSet/final_data.csv', header=None)\n",
    "df.rename(columns={0: 'comment', 1: 'type'}, inplace=True)"
   ]
  },
  {
   "cell_type": "code",
   "execution_count": 3,
   "id": "8f9e230e",
   "metadata": {},
   "outputs": [
    {
     "data": {
      "text/html": [
       "<div>\n",
       "<style scoped>\n",
       "    .dataframe tbody tr th:only-of-type {\n",
       "        vertical-align: middle;\n",
       "    }\n",
       "\n",
       "    .dataframe tbody tr th {\n",
       "        vertical-align: top;\n",
       "    }\n",
       "\n",
       "    .dataframe thead th {\n",
       "        text-align: right;\n",
       "    }\n",
       "</style>\n",
       "<table border=\"1\" class=\"dataframe\">\n",
       "  <thead>\n",
       "    <tr style=\"text-align: right;\">\n",
       "      <th></th>\n",
       "      <th>comment</th>\n",
       "      <th>type</th>\n",
       "    </tr>\n",
       "  </thead>\n",
       "  <tbody>\n",
       "    <tr>\n",
       "      <th>0</th>\n",
       "      <td>Love you sir!!</td>\n",
       "      <td>positive</td>\n",
       "    </tr>\n",
       "    <tr>\n",
       "      <th>1</th>\n",
       "      <td>Please make videos on..Midpoint circle drawing...</td>\n",
       "      <td>imperative</td>\n",
       "    </tr>\n",
       "    <tr>\n",
       "      <th>2</th>\n",
       "      <td>I bought both of your courses on Udemy. You ar...</td>\n",
       "      <td>interrogative</td>\n",
       "    </tr>\n",
       "    <tr>\n",
       "      <th>3</th>\n",
       "      <td>Thank you very much, u really got me in the fi...</td>\n",
       "      <td>positive</td>\n",
       "    </tr>\n",
       "    <tr>\n",
       "      <th>4</th>\n",
       "      <td>i hope u are ok with everything going on again...</td>\n",
       "      <td>other</td>\n",
       "    </tr>\n",
       "    <tr>\n",
       "      <th>...</th>\n",
       "      <td>...</td>\n",
       "      <td>...</td>\n",
       "    </tr>\n",
       "    <tr>\n",
       "      <th>9995</th>\n",
       "      <td>THIS IS GOLD! Absolute peach of a video. But I...</td>\n",
       "      <td>positive</td>\n",
       "    </tr>\n",
       "    <tr>\n",
       "      <th>9996</th>\n",
       "      <td>This is helpful, how to decode a logical conte...</td>\n",
       "      <td>interrogative</td>\n",
       "    </tr>\n",
       "    <tr>\n",
       "      <th>9997</th>\n",
       "      <td>wow. reading this slowly actually helped me se...</td>\n",
       "      <td>positive</td>\n",
       "    </tr>\n",
       "    <tr>\n",
       "      <th>9998</th>\n",
       "      <td>Great video sir, really helped a lot.keep goin...</td>\n",
       "      <td>positive</td>\n",
       "    </tr>\n",
       "    <tr>\n",
       "      <th>9999</th>\n",
       "      <td>Oh damn! u deserve a lot many subscribers than...</td>\n",
       "      <td>interrogative</td>\n",
       "    </tr>\n",
       "  </tbody>\n",
       "</table>\n",
       "<p>10000 rows × 2 columns</p>\n",
       "</div>"
      ],
      "text/plain": [
       "                                                comment           type\n",
       "0                                        Love you sir!!       positive\n",
       "1     Please make videos on..Midpoint circle drawing...     imperative\n",
       "2     I bought both of your courses on Udemy. You ar...  interrogative\n",
       "3     Thank you very much, u really got me in the fi...       positive\n",
       "4     i hope u are ok with everything going on again...          other\n",
       "...                                                 ...            ...\n",
       "9995  THIS IS GOLD! Absolute peach of a video. But I...       positive\n",
       "9996  This is helpful, how to decode a logical conte...  interrogative\n",
       "9997  wow. reading this slowly actually helped me se...       positive\n",
       "9998  Great video sir, really helped a lot.keep goin...       positive\n",
       "9999  Oh damn! u deserve a lot many subscribers than...  interrogative\n",
       "\n",
       "[10000 rows x 2 columns]"
      ]
     },
     "execution_count": 3,
     "metadata": {},
     "output_type": "execute_result"
    }
   ],
   "source": [
    "df"
   ]
  },
  {
   "cell_type": "code",
   "execution_count": 4,
   "id": "20ccff2b",
   "metadata": {},
   "outputs": [
    {
     "data": {
      "text/plain": [
       "(103.4122, 143.00264216694276, 4124)"
      ]
     },
     "execution_count": 4,
     "metadata": {},
     "output_type": "execute_result"
    }
   ],
   "source": [
    "lens = df.comment.str.len()\n",
    "lens.mean(), lens.std(), lens.max()"
   ]
  },
  {
   "cell_type": "code",
   "execution_count": 5,
   "id": "d5fb6a6d",
   "metadata": {},
   "outputs": [
    {
     "data": {
      "text/plain": [
       "type\n",
       "imperative       1057\n",
       "interrogative    3059\n",
       "negative          482\n",
       "other            1754\n",
       "positive         3648\n",
       "dtype: int64"
      ]
     },
     "execution_count": 5,
     "metadata": {},
     "output_type": "execute_result"
    }
   ],
   "source": [
    "df.groupby('type').size()"
   ]
  },
  {
   "cell_type": "code",
   "execution_count": 6,
   "id": "888ee57a",
   "metadata": {},
   "outputs": [
    {
     "data": {
      "image/png": "[encoded data removed]",
      "text/plain": [
       "<Figure size 576x360 with 1 Axes>"
      ]
     },
     "metadata": {
      "needs_background": "light"
     },
     "output_type": "display_data"
    }
   ],
   "source": [
    "cats = df.groupby('type').size()\n",
    "y_pos = cats.index\n",
    "plt.figure(figsize=(8,5))\n",
    "plt.bar(y_pos, cats.values)\n",
    "plt.show()"
   ]
  },
  {
   "cell_type": "code",
   "execution_count": 7,
   "id": "66007ed0",
   "metadata": {},
   "outputs": [
    {
     "name": "stderr",
     "output_type": "stream",
     "text": [
      "C:\\Users\\ashch\\AppData\\Local\\Temp\\ipykernel_4460\\2291226569.py:2: FutureWarning: The default value of regex will change from True to False in a future version.\n",
      "  df['comment'] = df['comment'].str.replace('http\\S+|www.\\S+', '', case=False)          #url\n",
      "C:\\Users\\ashch\\AppData\\Local\\Temp\\ipykernel_4460\\2291226569.py:4: FutureWarning: The default value of regex will change from True to False in a future version.\n",
      "  df['comment'] = df['comment'].str.replace('[^\\w\\s]',' ')                              #punctuations\n",
      "C:\\Users\\ashch\\AppData\\Local\\Temp\\ipykernel_4460\\2291226569.py:6: FutureWarning: The default value of regex will change from True to False in a future version.\n",
      "  df['comment'] = df['comment'].str.replace('[^\\w\\s#@/:%.,_-]', ' ', flags=re.UNICODE)  #emoji\n"
     ]
    }
   ],
   "source": [
    "df['comment'] = df['comment'].str.lower()\n",
    "df['comment'] = df['comment'].str.replace('http\\S+|www.\\S+', '', case=False)          #url\n",
    "df['comment'] = df['comment'].str.replace('\\n',' ', regex=True)                       #lines\n",
    "df['comment'] = df['comment'].str.replace('[^\\w\\s]',' ')                              #punctuations\n",
    "df['comment'] = df['comment'].str.replace('\\d','', regex=True)                        #int\n",
    "df['comment'] = df['comment'].str.replace('[^\\w\\s#@/:%.,_-]', ' ', flags=re.UNICODE)  #emoji"
   ]
  },
  {
   "cell_type": "code",
   "execution_count": 8,
   "id": "ca2e3c33",
   "metadata": {
    "scrolled": true
   },
   "outputs": [
    {
     "data": {
      "text/html": [
       "<div>\n",
       "<style scoped>\n",
       "    .dataframe tbody tr th:only-of-type {\n",
       "        vertical-align: middle;\n",
       "    }\n",
       "\n",
       "    .dataframe tbody tr th {\n",
       "        vertical-align: top;\n",
       "    }\n",
       "\n",
       "    .dataframe thead th {\n",
       "        text-align: right;\n",
       "    }\n",
       "</style>\n",
       "<table border=\"1\" class=\"dataframe\">\n",
       "  <thead>\n",
       "    <tr style=\"text-align: right;\">\n",
       "      <th></th>\n",
       "      <th>comment</th>\n",
       "      <th>type</th>\n",
       "    </tr>\n",
       "  </thead>\n",
       "  <tbody>\n",
       "    <tr>\n",
       "      <th>0</th>\n",
       "      <td>love you sir</td>\n",
       "      <td>positive</td>\n",
       "    </tr>\n",
       "    <tr>\n",
       "      <th>1</th>\n",
       "      <td>please make videos on  midpoint circle drawing...</td>\n",
       "      <td>imperative</td>\n",
       "    </tr>\n",
       "    <tr>\n",
       "      <th>2</th>\n",
       "      <td>i bought both of your courses on udemy  you ar...</td>\n",
       "      <td>interrogative</td>\n",
       "    </tr>\n",
       "    <tr>\n",
       "      <th>3</th>\n",
       "      <td>thank you very much  u really got me in the fi...</td>\n",
       "      <td>positive</td>\n",
       "    </tr>\n",
       "    <tr>\n",
       "      <th>4</th>\n",
       "      <td>i hope u are ok with everything going on again...</td>\n",
       "      <td>other</td>\n",
       "    </tr>\n",
       "  </tbody>\n",
       "</table>\n",
       "</div>"
      ],
      "text/plain": [
       "                                             comment           type\n",
       "0                                     love you sir         positive\n",
       "1  please make videos on  midpoint circle drawing...     imperative\n",
       "2  i bought both of your courses on udemy  you ar...  interrogative\n",
       "3  thank you very much  u really got me in the fi...       positive\n",
       "4  i hope u are ok with everything going on again...          other"
      ]
     },
     "execution_count": 8,
     "metadata": {},
     "output_type": "execute_result"
    }
   ],
   "source": [
    "df.head()"
   ]
  },
  {
   "cell_type": "code",
   "execution_count": 9,
   "id": "c2448b23",
   "metadata": {},
   "outputs": [],
   "source": [
    "spell = Speller(lang='en')\n",
    "def typo_corrector(text):\n",
    "    return spell(text)\n",
    "df['comment'] = df['comment'].apply(typo_corrector)"
   ]
  },
  {
   "cell_type": "code",
   "execution_count": 10,
   "id": "01a9e2cd",
   "metadata": {},
   "outputs": [],
   "source": [
    "stop = stopwords.words('english')\n",
    "neg = ['no','not']\n",
    "interrogative = ['how','what','which','who','whom','why','do','does','is','are','was','were','will','am','are','could','would','should','can','did','does','do','had','have']\n",
    "imperative = ['could','would','should','can']\n",
    "\n",
    "forNegative = stop.copy()\n",
    "for word in neg:\n",
    "    if word in forNegative:\n",
    "        forNegative.remove(word)\n",
    "forInterrogative = stop.copy()\n",
    "for word in interrogative:\n",
    "    if word in forInterrogative:\n",
    "        forInterrogative.remove(word)    \n",
    "forImperative = stop.copy()\n",
    "for word in imperative:\n",
    "    if word in forImperative:\n",
    "        forImperative.remove(word)\n",
    "\n",
    "for i in range(len(df)):\n",
    "    if df['type'][i] == \"negative\":\n",
    "        df['comment'][i] = ' '.join([word for word in df['comment'][i].split() if word not in forNegative])\n",
    "for i in range(len(df)):\n",
    "    if df['type'][i] == \"interrogative\":\n",
    "        df['comment'][i] = ' '.join([word for word in df['comment'][i].split() if word not in forInterrogative])\n",
    "for i in range(len(df)):\n",
    "    if df['type'][i] == \"imperative\":\n",
    "        df['comment'][i] = ' '.join([word for word in df['comment'][i].split() if word not in forImperative])\n",
    "for i in range(len(df)):\n",
    "    if df['type'][i] == \"positive\" or df['type'][i] == \"other\":\n",
    "        df['comment'][i] = ' '.join([word for word in df['comment'][i].split() if word not in stop])"
   ]
  },
  {
   "cell_type": "code",
   "execution_count": 11,
   "id": "1c9ce1ac",
   "metadata": {},
   "outputs": [],
   "source": [
    "lemmatizer = nltk.stem.WordNetLemmatizer()\n",
    "df['comment'] = df['comment'].apply(lambda x: ' '.join([lemmatizer.lemmatize(word) for word in x.split()]))"
   ]
  },
  {
   "cell_type": "code",
   "execution_count": 12,
   "id": "61ea4a09",
   "metadata": {},
   "outputs": [
    {
     "data": {
      "text/html": [
       "<div>\n",
       "<style scoped>\n",
       "    .dataframe tbody tr th:only-of-type {\n",
       "        vertical-align: middle;\n",
       "    }\n",
       "\n",
       "    .dataframe tbody tr th {\n",
       "        vertical-align: top;\n",
       "    }\n",
       "\n",
       "    .dataframe thead th {\n",
       "        text-align: right;\n",
       "    }\n",
       "</style>\n",
       "<table border=\"1\" class=\"dataframe\">\n",
       "  <thead>\n",
       "    <tr style=\"text-align: right;\">\n",
       "      <th></th>\n",
       "      <th>comment</th>\n",
       "      <th>type</th>\n",
       "    </tr>\n",
       "  </thead>\n",
       "  <tbody>\n",
       "    <tr>\n",
       "      <th>0</th>\n",
       "      <td>love sir</td>\n",
       "      <td>positive</td>\n",
       "    </tr>\n",
       "    <tr>\n",
       "      <th>1</th>\n",
       "      <td>please make video midpoint circle drawing bres...</td>\n",
       "      <td>imperative</td>\n",
       "    </tr>\n",
       "    <tr>\n",
       "      <th>2</th>\n",
       "      <td>bought course dmy are talented teacher keep pr...</td>\n",
       "      <td>interrogative</td>\n",
       "    </tr>\n",
       "    <tr>\n",
       "      <th>3</th>\n",
       "      <td>thank much u really got first video algorithm ...</td>\n",
       "      <td>positive</td>\n",
       "    </tr>\n",
       "    <tr>\n",
       "      <th>4</th>\n",
       "      <td>hope u ok everything going muslim index</td>\n",
       "      <td>other</td>\n",
       "    </tr>\n",
       "  </tbody>\n",
       "</table>\n",
       "</div>"
      ],
      "text/plain": [
       "                                             comment           type\n",
       "0                                           love sir       positive\n",
       "1  please make video midpoint circle drawing bres...     imperative\n",
       "2  bought course dmy are talented teacher keep pr...  interrogative\n",
       "3  thank much u really got first video algorithm ...       positive\n",
       "4            hope u ok everything going muslim index          other"
      ]
     },
     "execution_count": 12,
     "metadata": {},
     "output_type": "execute_result"
    }
   ],
   "source": [
    "df.head()"
   ]
  },
  {
   "cell_type": "code",
   "execution_count": 13,
   "id": "46a3171d",
   "metadata": {},
   "outputs": [],
   "source": [
    "from sklearn.model_selection import train_test_split\n",
    "X_train, X_test, y_train, y_test = train_test_split(df.comment, df.type, test_size=0.2, random_state=42)"
   ]
  },
  {
   "cell_type": "code",
   "execution_count": 14,
   "id": "754ebc04",
   "metadata": {},
   "outputs": [
    {
     "data": {
      "text/plain": [
       "9254                  sir please tell hr v marketing best\n",
       "1561                                                     \n",
       "1670                                      wtf wrong mouse\n",
       "6087              clear concise explanation thanks dubbed\n",
       "6669                                            great job\n",
       "                              ...                        \n",
       "5734                                       worth watching\n",
       "5191                                               thanks\n",
       "5390                                           thank much\n",
       "860     sir pnzz make video shortest uncommon subseque...\n",
       "7270    machine learning is like how train subconsciou...\n",
       "Name: comment, Length: 8000, dtype: object"
      ]
     },
     "execution_count": 14,
     "metadata": {},
     "output_type": "execute_result"
    }
   ],
   "source": [
    "X_train"
   ]
  },
  {
   "cell_type": "code",
   "execution_count": 15,
   "id": "24d6994b",
   "metadata": {},
   "outputs": [],
   "source": [
    "from sklearn.feature_extraction.text import TfidfVectorizer\n",
    "\n",
    "tfidf = TfidfVectorizer(sublinear_tf=False, min_df=5, norm='l2', ngram_range=(1, 2))\n",
    "X_train_features = tfidf.fit_transform(X_train)\n",
    "X_test_features = tfidf.transform(X_test)"
   ]
  },
  {
   "cell_type": "code",
   "execution_count": 16,
   "id": "622115cf",
   "metadata": {},
   "outputs": [
    {
     "data": {
      "text/plain": [
       "(8000, 3141)"
      ]
     },
     "execution_count": 16,
     "metadata": {},
     "output_type": "execute_result"
    }
   ],
   "source": [
    "X_train_features.shape"
   ]
  },
  {
   "cell_type": "code",
   "execution_count": 17,
   "id": "558cd008",
   "metadata": {},
   "outputs": [
    {
     "data": {
      "text/plain": [
       "(2000, 3141)"
      ]
     },
     "execution_count": 17,
     "metadata": {},
     "output_type": "execute_result"
    }
   ],
   "source": [
    "X_test_features.shape"
   ]
  },
  {
   "cell_type": "code",
   "execution_count": 18,
   "id": "1782e0e0",
   "metadata": {},
   "outputs": [],
   "source": [
    "mnb = MultinomialNB(alpha=1, fit_prior=False)\n",
    "mnb.fit(X_train_features, y_train)\n",
    "predictionsMnb = mnb.predict(X_test_features)"
   ]
  },
  {
   "cell_type": "code",
   "execution_count": 19,
   "id": "8dc905b7",
   "metadata": {
    "scrolled": false
   },
   "outputs": [
    {
     "name": "stdout",
     "output_type": "stream",
     "text": [
      "MultinomialNB Results: \n",
      "\n",
      "               precision    recall  f1-score   support\n",
      "\n",
      "   imperative       0.51      0.60      0.55       220\n",
      "interrogative       0.86      0.90      0.88       623\n",
      "     negative       0.60      0.46      0.52       112\n",
      "        other       0.61      0.53      0.57       349\n",
      "     positive       0.86      0.87      0.87       696\n",
      "\n",
      "     accuracy                           0.77      2000\n",
      "    macro avg       0.69      0.67      0.68      2000\n",
      " weighted avg       0.76      0.77      0.76      2000\n",
      "\n"
     ]
    }
   ],
   "source": [
    "print(\"MultinomialNB Results: \\n\")\n",
    "print(classification_report(y_test,predictionsMnb))"
   ]
  },
  {
   "cell_type": "code",
   "execution_count": 20,
   "id": "d3c9c28c",
   "metadata": {},
   "outputs": [
    {
     "name": "stdout",
     "output_type": "stream",
     "text": [
      "Accuracy: 76.70%\n"
     ]
    }
   ],
   "source": [
    "accuracyMnb = accuracy_score(y_test, predictionsMnb)\n",
    "print(\"Accuracy: %.2f%%\" % (accuracyMnb * 100.0))"
   ]
  },
  {
   "cell_type": "code",
   "execution_count": 21,
   "id": "b88d332d",
   "metadata": {},
   "outputs": [],
   "source": [
    "svcc = SVC(C=10, gamma='scale', kernel='linear', random_state=0)\n",
    "svcc.fit(X_train_features, y_train)\n",
    "predictionsSvc = svcc.predict(X_test_features)"
   ]
  },
  {
   "cell_type": "code",
   "execution_count": 22,
   "id": "3af55cb8",
   "metadata": {
    "scrolled": true
   },
   "outputs": [
    {
     "name": "stdout",
     "output_type": "stream",
     "text": [
      "Support Vector Classification Results: \n",
      "\n",
      "               precision    recall  f1-score   support\n",
      "\n",
      "   imperative       0.60      0.62      0.61       220\n",
      "interrogative       0.94      0.91      0.92       623\n",
      "     negative       0.62      0.52      0.57       112\n",
      "        other       0.60      0.68      0.64       349\n",
      "     positive       0.85      0.83      0.84       696\n",
      "\n",
      "     accuracy                           0.79      2000\n",
      "    macro avg       0.72      0.71      0.71      2000\n",
      " weighted avg       0.79      0.79      0.79      2000\n",
      "\n"
     ]
    }
   ],
   "source": [
    "print(\"Support Vector Classification Results: \\n\")\n",
    "print(classification_report(y_test,predictionsSvc))"
   ]
  },
  {
   "cell_type": "code",
   "execution_count": 23,
   "id": "24e88fd1",
   "metadata": {},
   "outputs": [
    {
     "name": "stdout",
     "output_type": "stream",
     "text": [
      "Accuracy: 78.70%\n"
     ]
    }
   ],
   "source": [
    "accuracySvc = accuracy_score(y_test, predictionsSvc)\n",
    "print(\"Accuracy: %.2f%%\" % (accuracySvc * 100.0))"
   ]
  },
  {
   "cell_type": "code",
   "execution_count": 24,
   "id": "2cda287a",
   "metadata": {},
   "outputs": [],
   "source": [
    "lr = LogisticRegression(C=10, penalty='l2', solver='liblinear',random_state=0)\n",
    "lr.fit(X_train_features, y_train)\n",
    "predictionsLr = lr.predict(X_test_features)"
   ]
  },
  {
   "cell_type": "code",
   "execution_count": 25,
   "id": "5a2bc59f",
   "metadata": {
    "scrolled": true
   },
   "outputs": [
    {
     "name": "stdout",
     "output_type": "stream",
     "text": [
      "Logistic Regression Results: \n",
      "\n",
      "               precision    recall  f1-score   support\n",
      "\n",
      "   imperative       0.76      0.63      0.69       220\n",
      "interrogative       0.97      0.94      0.95       623\n",
      "     negative       0.82      0.49      0.61       112\n",
      "        other       0.62      0.73      0.67       349\n",
      "     positive       0.84      0.89      0.87       696\n",
      "\n",
      "     accuracy                           0.83      2000\n",
      "    macro avg       0.80      0.74      0.76      2000\n",
      " weighted avg       0.83      0.83      0.83      2000\n",
      "\n"
     ]
    }
   ],
   "source": [
    "print(\"Logistic Regression Results: \\n\")\n",
    "print(classification_report(y_test,predictionsLr))"
   ]
  },
  {
   "cell_type": "code",
   "execution_count": 26,
   "id": "8d012a6f",
   "metadata": {},
   "outputs": [],
   "source": [
    "rf = RandomForestClassifier(max_features='log2', n_estimators=1000, criterion = 'entropy', random_state = 0)\n",
    "rf.fit(X_train_features, y_train)\n",
    "predictionsR = rf.predict(X_test_features)"
   ]
  },
  {
   "cell_type": "code",
   "execution_count": 27,
   "id": "8de32a9f",
   "metadata": {
    "scrolled": false
   },
   "outputs": [
    {
     "name": "stdout",
     "output_type": "stream",
     "text": [
      "Random Forest Classifier Results: \n",
      "\n",
      "               precision    recall  f1-score   support\n",
      "\n",
      "   imperative       0.87      0.52      0.65       220\n",
      "interrogative       0.89      0.95      0.92       623\n",
      "     negative       0.90      0.32      0.47       112\n",
      "        other       0.65      0.75      0.70       349\n",
      "     positive       0.83      0.90      0.86       696\n",
      "\n",
      "     accuracy                           0.82      2000\n",
      "    macro avg       0.83      0.69      0.72      2000\n",
      " weighted avg       0.82      0.82      0.81      2000\n",
      "\n"
     ]
    }
   ],
   "source": [
    "print(\"Random Forest Classifier Results: \\n\")\n",
    "print(classification_report(y_test,predictionsR))"
   ]
  },
  {
   "cell_type": "code",
   "execution_count": 28,
   "id": "04d28ff4",
   "metadata": {},
   "outputs": [
    {
     "name": "stdout",
     "output_type": "stream",
     "text": [
      "Accuracy: 81.55%\n"
     ]
    }
   ],
   "source": [
    "accuracyR = accuracy_score(y_test, predictionsR)\n",
    "print(\"Accuracy: %.2f%%\" % (accuracyR * 100.0))"
   ]
  },
  {
   "cell_type": "code",
   "execution_count": 34,
   "id": "1558a150",
   "metadata": {},
   "outputs": [
    {
     "data": {
      "text/plain": [
       "8000"
      ]
     },
     "execution_count": 34,
     "metadata": {},
     "output_type": "execute_result"
    }
   ],
   "source": [
    "X_train_features.shape[0]"
   ]
  },
  {
   "cell_type": "code",
   "execution_count": 35,
   "id": "fcb6fb71",
   "metadata": {},
   "outputs": [
    {
     "data": {
      "image/png": "[encoded data removed]",
      "text/plain": [
       "<Figure size 864x576 with 1 Axes>"
      ]
     },
     "metadata": {
      "needs_background": "light"
     },
     "output_type": "display_data"
    }
   ],
   "source": [
    "def plot_acc_curve(classifier, linestyle, label):    \n",
    "    \n",
    "    num_of_splits = 20\n",
    "    each_split_size = X_train_features.shape[0]//num_of_splits\n",
    "\n",
    "    each_split = 400\n",
    "    scores = []\n",
    "\n",
    "    for i in range(num_of_splits+1):\n",
    "        split_X_train = X_train_features[0:each_split]\n",
    "        split_y_train = y_train[0:each_split]\n",
    "\n",
    "        each_split += each_split_size\n",
    "\n",
    "        classifier.fit(split_X_train, split_y_train)\n",
    "        scores.append(classifier.score(X_test_features, y_test))\n",
    "    \n",
    "    m = 20\n",
    "    n = 400\n",
    "    x_splits = list(range(0, (m+1)*n, n))\n",
    "\n",
    "    plt.xlabel('Data Size')\n",
    "    plt.ylabel('Testing Accuracy')\n",
    "    plt.plot(x_splits, scores, linestyle, label = label)\n",
    "    plt.xticks(x_splits)\n",
    "    plt.legend(loc=\"best\")\n",
    "    \n",
    "    return plt\n",
    "    \n",
    "\n",
    "plt.figure(figsize=(12,8))\n",
    "\n",
    "plot_acc_curve(svcc, linestyle = 'o-', label=\"Linear SVC\")\n",
    "\n",
    "plot_acc_curve(lr, linestyle = '*-', label=\"Logistic Regression\")\n",
    "\n",
    "plot_acc_curve(mnb, linestyle = '^-', label=\"Multinomial NB\")\n",
    "\n",
    "plot_acc_curve(rf, linestyle = 's-', label=\"Random Forest Classifier\")\n",
    "\n",
    "plt.show()"
   ]
  },
  {
   "cell_type": "code",
   "execution_count": null,
   "id": "7c08f543",
   "metadata": {},
   "outputs": [],
   "source": []
  },
  {
   "cell_type": "code",
   "execution_count": 29,
   "id": "4f2cb8a6",
   "metadata": {},
   "outputs": [],
   "source": [
    "import pickle"
   ]
  },
  {
   "cell_type": "code",
   "execution_count": 22,
   "id": "6b761028",
   "metadata": {
    "scrolled": true
   },
   "outputs": [],
   "source": [
    "with open(\"Commenttifdf.pkl\", 'wb') as handle:\n",
    "    pickle.dump(tfidf, handle)"
   ]
  },
  {
   "cell_type": "code",
   "execution_count": 23,
   "id": "b1b4fa2a",
   "metadata": {},
   "outputs": [],
   "source": [
    "pickle.dump(lr, open(\"CommentModel.pkl\", 'wb'))"
   ]
  },
  {
   "cell_type": "code",
   "execution_count": 24,
   "id": "c1fe100b",
   "metadata": {},
   "outputs": [],
   "source": [
    "example = pd.read_csv('vLS-zRCHo-Y.csv', header=None)"
   ]
  },
  {
   "cell_type": "code",
   "execution_count": 25,
   "id": "ad613932",
   "metadata": {},
   "outputs": [
    {
     "name": "stderr",
     "output_type": "stream",
     "text": [
      "C:\\Users\\ashch\\AppData\\Local\\Temp\\ipykernel_17456\\2697531626.py:2: FutureWarning: The default value of regex will change from True to False in a future version.\n",
      "  example[0] = example[0].str.replace('http\\S+|www.\\S+', '', case=False)          #url\n",
      "C:\\Users\\ashch\\AppData\\Local\\Temp\\ipykernel_17456\\2697531626.py:4: FutureWarning: The default value of regex will change from True to False in a future version.\n",
      "  example[0] = example[0].str.replace('[^\\w\\s]',' ')                              #punctuations\n",
      "C:\\Users\\ashch\\AppData\\Local\\Temp\\ipykernel_17456\\2697531626.py:6: FutureWarning: The default value of regex will change from True to False in a future version.\n",
      "  example[0] = example[0].str.replace('[^\\w\\s#@/:%.,_-]', ' ', flags=re.UNICODE)  #emoji\n"
     ]
    }
   ],
   "source": [
    "example[0] = example[0].str.lower()\n",
    "example[0] = example[0].str.replace('http\\S+|www.\\S+', '', case=False)          #url\n",
    "example[0] = example[0].str.replace('\\n',' ', regex=True)                       #lines\n",
    "example[0] = example[0].str.replace('[^\\w\\s]',' ')                              #punctuations\n",
    "example[0] = example[0].str.replace('\\d','', regex=True)                        #int\n",
    "example[0] = example[0].str.replace('[^\\w\\s#@/:%.,_-]', ' ', flags=re.UNICODE)  #emoji"
   ]
  },
  {
   "cell_type": "code",
   "execution_count": 26,
   "id": "b1eb6e16",
   "metadata": {},
   "outputs": [],
   "source": [
    "example[0] = example[0].apply(typo_corrector)"
   ]
  },
  {
   "cell_type": "code",
   "execution_count": 27,
   "id": "89ed3658",
   "metadata": {},
   "outputs": [],
   "source": [
    "example[0] = example[0].apply(lambda x: ' '.join([lemmatizer.lemmatize(word) for word in x.split()]))"
   ]
  },
  {
   "cell_type": "code",
   "execution_count": 28,
   "id": "4530c3a9",
   "metadata": {},
   "outputs": [
    {
     "data": {
      "text/plain": [
       "(219, 3141)"
      ]
     },
     "execution_count": 28,
     "metadata": {},
     "output_type": "execute_result"
    }
   ],
   "source": [
    "features1 = tfidf.transform(example[0])\n",
    "features1.shape"
   ]
  },
  {
   "cell_type": "code",
   "execution_count": 29,
   "id": "d9845c12",
   "metadata": {},
   "outputs": [],
   "source": [
    "example['predictionsEx'] = lr.predict(features1)"
   ]
  },
  {
   "cell_type": "code",
   "execution_count": 33,
   "id": "62d90dba",
   "metadata": {},
   "outputs": [],
   "source": [
    "example = example.sort_values(by=['predictionsEx'])"
   ]
  },
  {
   "cell_type": "code",
   "execution_count": 34,
   "id": "5813e68b",
   "metadata": {},
   "outputs": [],
   "source": [
    "example.to_csv('file2.csv')"
   ]
  },
  {
   "cell_type": "code",
   "execution_count": null,
   "id": "45219eda",
   "metadata": {},
   "outputs": [],
   "source": []
  }
 ],
 "metadata": {
  "kernelspec": {
   "display_name": "Python 3 (ipykernel)",
   "language": "python",
   "name": "python3"
  },
  "language_info": {
   "codemirror_mode": {
    "name": "ipython",
    "version": 3
   },
   "file_extension": ".py",
   "mimetype": "text/x-python",
   "name": "python",
   "nbconvert_exporter": "python",
   "pygments_lexer": "ipython3",
   "version": "3.10.4"
  }
 },
 "nbformat": 4,
 "nbformat_minor": 5
}
