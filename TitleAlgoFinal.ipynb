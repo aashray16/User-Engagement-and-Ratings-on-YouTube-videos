{
 "cells": [
  {
   "cell_type": "code",
   "execution_count": 1,
   "id": "794fa1b8",
   "metadata": {},
   "outputs": [],
   "source": [
    "import pandas as pd\n",
    "import numpy as np  \n",
    "import re\n",
    "import nltk \n",
    "import matplotlib.pyplot as plt\n",
    "from nltk.corpus import stopwords\n",
    "from sklearn.feature_extraction.text import TfidfVectorizer\n",
    "from sklearn.model_selection import train_test_split\n",
    "from sklearn.svm import SVC\n",
    "from sklearn.ensemble import RandomForestClassifier\n",
    "from sklearn.linear_model import LogisticRegression\n",
    "from sklearn.metrics import classification_report\n",
    "from sklearn.metrics import accuracy_score"
   ]
  },
  {
   "cell_type": "code",
   "execution_count": 2,
   "id": "852e7c66",
   "metadata": {},
   "outputs": [],
   "source": [
    "df = pd.read_csv(\"TitleDataSet\\clickbait_data.csv\")"
   ]
  },
  {
   "cell_type": "code",
   "execution_count": 3,
   "id": "b709d56f",
   "metadata": {},
   "outputs": [],
   "source": [
    "features = df['headline'].values\n",
    "labels = df['clickbait'].values"
   ]
  },
  {
   "cell_type": "code",
   "execution_count": 4,
   "id": "d8459bb5",
   "metadata": {},
   "outputs": [],
   "source": [
    "newFeatures = []\n",
    "for sentence in range(0, len(features)):\n",
    "    newFeature = re.sub(r'\\W', ' ', str(features[sentence]))  #special char\n",
    "    newFeature= re.sub(r'\\s+[a-zA-Z]\\s+', ' ', newFeature)    #single char\n",
    "    newFeature = re.sub(r'\\s+', ' ', newFeature, flags=re.I)  #spaces\n",
    "    newFeature = newFeature.lower()\n",
    "    newFeatures.append(newFeature)"
   ]
  },
  {
   "cell_type": "code",
   "execution_count": 5,
   "id": "9ef696a7",
   "metadata": {},
   "outputs": [],
   "source": [
    "vectorizer = TfidfVectorizer (max_features=2500, min_df=7, max_df=0.8, stop_words=stopwords.words('english'))\n",
    "newFeatures = vectorizer.fit_transform(newFeatures).toarray()"
   ]
  },
  {
   "cell_type": "code",
   "execution_count": 6,
   "id": "f035e389",
   "metadata": {},
   "outputs": [],
   "source": [
    "X_train, X_test, y_train, y_test = train_test_split(newFeatures, labels, test_size=0.2, random_state=42)"
   ]
  },
  {
   "cell_type": "code",
   "execution_count": 27,
   "id": "39bfdd9a",
   "metadata": {},
   "outputs": [
    {
     "data": {
      "text/plain": [
       "25600"
      ]
     },
     "execution_count": 27,
     "metadata": {},
     "output_type": "execute_result"
    }
   ],
   "source": [
    "len(X_train)"
   ]
  },
  {
   "cell_type": "code",
   "execution_count": 7,
   "id": "0262c056",
   "metadata": {},
   "outputs": [],
   "source": [
    "s=SVC(kernel='linear',gamma='scale')\n",
    "s.fit(X_train,y_train)\n",
    "predictions=s.predict(X_test)"
   ]
  },
  {
   "cell_type": "code",
   "execution_count": 17,
   "id": "fa395c01",
   "metadata": {},
   "outputs": [],
   "source": [
    "from sklearn.metrics import confusion_matrix\n",
    "cm_svc = confusion_matrix(y_test, predictions)"
   ]
  },
  {
   "cell_type": "code",
   "execution_count": 8,
   "id": "f6cfd18b",
   "metadata": {
    "scrolled": false
   },
   "outputs": [
    {
     "name": "stdout",
     "output_type": "stream",
     "text": [
      "Support Vector Classification Results: \n",
      "\n",
      "              precision    recall  f1-score   support\n",
      "\n",
      "           0       0.93      0.96      0.95      3127\n",
      "           1       0.96      0.93      0.95      3273\n",
      "\n",
      "    accuracy                           0.95      6400\n",
      "   macro avg       0.95      0.95      0.95      6400\n",
      "weighted avg       0.95      0.95      0.95      6400\n",
      "\n"
     ]
    }
   ],
   "source": [
    "print(\"Support Vector Classification Results: \\n\")\n",
    "print(classification_report(y_test,predictions))"
   ]
  },
  {
   "cell_type": "code",
   "execution_count": 9,
   "id": "c045756b",
   "metadata": {},
   "outputs": [
    {
     "name": "stdout",
     "output_type": "stream",
     "text": [
      "Accuracy: 94.67%\n"
     ]
    }
   ],
   "source": [
    "accuracySvc = accuracy_score(y_test, predictions)\n",
    "print(\"Accuracy: %.2f%%\" % (accuracySvc * 100.0))"
   ]
  },
  {
   "cell_type": "code",
   "execution_count": 14,
   "id": "45ff20cc",
   "metadata": {},
   "outputs": [],
   "source": [
    "r = RandomForestClassifier(n_estimators=20, random_state=0)\n",
    "r.fit(X_train, y_train)\n",
    "predictionsR = r.predict(X_test)"
   ]
  },
  {
   "cell_type": "code",
   "execution_count": 19,
   "id": "868fc72e",
   "metadata": {},
   "outputs": [],
   "source": [
    "cm_r = confusion_matrix(y_test, predictionsR)"
   ]
  },
  {
   "cell_type": "code",
   "execution_count": 15,
   "id": "1e8fe2da",
   "metadata": {},
   "outputs": [
    {
     "name": "stdout",
     "output_type": "stream",
     "text": [
      "Random Forest Results: \n",
      "\n",
      "              precision    recall  f1-score   support\n",
      "\n",
      "           0       0.93      0.90      0.92      3127\n",
      "           1       0.91      0.93      0.92      3273\n",
      "\n",
      "    accuracy                           0.92      6400\n",
      "   macro avg       0.92      0.92      0.92      6400\n",
      "weighted avg       0.92      0.92      0.92      6400\n",
      "\n"
     ]
    }
   ],
   "source": [
    "print(\"Random Forest Results: \\n\")\n",
    "print(classification_report(y_test,predictionsR))"
   ]
  },
  {
   "cell_type": "code",
   "execution_count": 16,
   "id": "399194c0",
   "metadata": {},
   "outputs": [
    {
     "name": "stdout",
     "output_type": "stream",
     "text": [
      "Accuracy: 91.84%\n"
     ]
    }
   ],
   "source": [
    "accuracyR = accuracy_score(y_test, predictionsR)\n",
    "print(\"Accuracy: %.2f%%\" % (accuracyR * 100.0))"
   ]
  },
  {
   "cell_type": "code",
   "execution_count": 11,
   "id": "63e5098b",
   "metadata": {},
   "outputs": [],
   "source": [
    "from sklearn.linear_model import LogisticRegression\n",
    "l=LogisticRegression(C=0.01,solver='liblinear')\n",
    "l.fit(X_train,y_train)\n",
    "predictionsL=l.predict(X_test)"
   ]
  },
  {
   "cell_type": "code",
   "execution_count": 20,
   "id": "b9eb63e9",
   "metadata": {},
   "outputs": [],
   "source": [
    "cm_lr = confusion_matrix(y_test, predictionsL)"
   ]
  },
  {
   "cell_type": "code",
   "execution_count": 12,
   "id": "045abfe0",
   "metadata": {},
   "outputs": [
    {
     "name": "stdout",
     "output_type": "stream",
     "text": [
      "Logistic Regression Results: \n",
      "\n",
      "              precision    recall  f1-score   support\n",
      "\n",
      "           0       0.84      0.97      0.90      3127\n",
      "           1       0.97      0.82      0.89      3273\n",
      "\n",
      "    accuracy                           0.90      6400\n",
      "   macro avg       0.90      0.90      0.89      6400\n",
      "weighted avg       0.91      0.90      0.89      6400\n",
      "\n"
     ]
    }
   ],
   "source": [
    "print(\"Logistic Regression Results: \\n\")\n",
    "print(classification_report(y_test,predictionsL))"
   ]
  },
  {
   "cell_type": "code",
   "execution_count": 13,
   "id": "da2e6ea7",
   "metadata": {
    "scrolled": true
   },
   "outputs": [
    {
     "name": "stdout",
     "output_type": "stream",
     "text": [
      "Accuracy: 89.50%\n"
     ]
    }
   ],
   "source": [
    "accuracyL = accuracy_score(y_test, predictionsL)\n",
    "print(\"Accuracy: %.2f%%\" % (accuracyL * 100.0))"
   ]
  },
  {
   "cell_type": "code",
   "execution_count": 28,
   "id": "f2d680e3",
   "metadata": {},
   "outputs": [
    {
     "data": {
      "image/png": "[encoded data removed]",
      "text/plain": [
       "<Figure size 864x576 with 1 Axes>"
      ]
     },
     "metadata": {
      "needs_background": "light"
     },
     "output_type": "display_data"
    }
   ],
   "source": [
    "def plot_acc_curve(classifier, linestyle, label):    \n",
    "    \n",
    "    num_of_splits = 20\n",
    "    each_split_size = len(X_train)//num_of_splits\n",
    "\n",
    "    each_split = 1280\n",
    "    scores = []\n",
    "\n",
    "    for i in range(num_of_splits+1):\n",
    "        split_X_train = X_train[0:each_split]\n",
    "        split_y_train = y_train[0:each_split]\n",
    "\n",
    "        each_split += each_split_size\n",
    "\n",
    "        classifier.fit(split_X_train, split_y_train)\n",
    "        scores.append(classifier.score(X_test, y_test))\n",
    "    \n",
    "    m = 20\n",
    "    n = 1280\n",
    "    x_splits = list(range(0, (m+1)*n, n))\n",
    "\n",
    "    plt.xlabel('Data Size')\n",
    "    plt.ylabel('Accuracy')\n",
    "    plt.plot(x_splits, scores, linestyle, label = label)\n",
    "    plt.xticks(x_splits)\n",
    "    plt.legend(loc=\"best\")\n",
    "    \n",
    "    return plt\n",
    "    \n",
    "\n",
    "plt.figure(figsize=(12,8))\n",
    "\n",
    "# Linear SVC\n",
    "plot_acc_curve(s, linestyle = 'o-', label=\"Linear SVC\")\n",
    "\n",
    "plot_acc_curve(l, linestyle = '*-', label=\"Logistic Regression\")\n",
    "\n",
    "plot_acc_curve(r, linestyle = 's-', label=\"Random Forest Classifier\")\n",
    "\n",
    "\n",
    "plt.show()\n"
   ]
  },
  {
   "cell_type": "code",
   "execution_count": 21,
   "id": "fa162fd9",
   "metadata": {},
   "outputs": [],
   "source": [
    "def acc_each_category(cf_matrix):\n",
    "    correctly_classified = np.diagonal(cf_matrix)\n",
    "    return correctly_classified\n",
    "\n",
    "y = cm_lr.sum(axis=1)\n",
    "\n",
    "z1 = acc_each_category(cm_svc)\n",
    "z2 = acc_each_category(cm_lr)\n",
    "z3 = acc_each_category(cm_r)"
   ]
  },
  {
   "cell_type": "code",
   "execution_count": 22,
   "id": "924d56ee",
   "metadata": {},
   "outputs": [
    {
     "ename": "ValueError",
     "evalue": "The number of FixedLocator locations (3), usually from a call to set_ticks, does not match the number of ticklabels (2).",
     "output_type": "error",
     "traceback": [
      "\u001b[1;31m---------------------------------------------------------------------------\u001b[0m",
      "\u001b[1;31mValueError\u001b[0m                                Traceback (most recent call last)",
      "Input \u001b[1;32mIn [22]\u001b[0m, in \u001b[0;36m<module>\u001b[1;34m\u001b[0m\n\u001b[0;32m      7\u001b[0m x3 \u001b[38;5;241m=\u001b[39m x2\u001b[38;5;241m+\u001b[39mw\n\u001b[0;32m      8\u001b[0m x4 \u001b[38;5;241m=\u001b[39m x3\u001b[38;5;241m+\u001b[39mw\n\u001b[1;32m---> 10\u001b[0m \u001b[43mplt\u001b[49m\u001b[38;5;241;43m.\u001b[39;49m\u001b[43mxticks\u001b[49m\u001b[43m(\u001b[49m\u001b[43mticks\u001b[49m\u001b[38;5;241;43m=\u001b[39;49m\u001b[43mx1\u001b[49m\u001b[38;5;241;43m+\u001b[39;49m\u001b[38;5;241;43m0.3\u001b[39;49m\u001b[43m,\u001b[49m\u001b[43m \u001b[49m\u001b[43mlabels\u001b[49m\u001b[38;5;241;43m=\u001b[39;49m\u001b[43mx_tick\u001b[49m\u001b[43m)\u001b[49m\n\u001b[0;32m     11\u001b[0m plt\u001b[38;5;241m.\u001b[39mbar(x1, y, w, label \u001b[38;5;241m=\u001b[39m \u001b[38;5;124m\"\u001b[39m\u001b[38;5;124mTotal Video Title\u001b[39m\u001b[38;5;124m\"\u001b[39m)\n\u001b[0;32m     12\u001b[0m plt\u001b[38;5;241m.\u001b[39mbar(x2, z1, w, label \u001b[38;5;241m=\u001b[39m \u001b[38;5;124m\"\u001b[39m\u001b[38;5;124mLinear SVC\u001b[39m\u001b[38;5;124m\"\u001b[39m)\n",
      "File \u001b[1;32m~\\.conda\\envs\\YT-env\\lib\\site-packages\\matplotlib\\pyplot.py:1795\u001b[0m, in \u001b[0;36mxticks\u001b[1;34m(ticks, labels, **kwargs)\u001b[0m\n\u001b[0;32m   1793\u001b[0m         l\u001b[38;5;241m.\u001b[39mupdate(kwargs)\n\u001b[0;32m   1794\u001b[0m \u001b[38;5;28;01melse\u001b[39;00m:\n\u001b[1;32m-> 1795\u001b[0m     labels \u001b[38;5;241m=\u001b[39m ax\u001b[38;5;241m.\u001b[39mset_xticklabels(labels, \u001b[38;5;241m*\u001b[39m\u001b[38;5;241m*\u001b[39mkwargs)\n\u001b[0;32m   1797\u001b[0m \u001b[38;5;28;01mreturn\u001b[39;00m locs, labels\n",
      "File \u001b[1;32m~\\.conda\\envs\\YT-env\\lib\\site-packages\\matplotlib\\axes\\_base.py:75\u001b[0m, in \u001b[0;36m_axis_method_wrapper.__set_name__.<locals>.wrapper\u001b[1;34m(self, *args, **kwargs)\u001b[0m\n\u001b[0;32m     74\u001b[0m \u001b[38;5;28;01mdef\u001b[39;00m \u001b[38;5;21mwrapper\u001b[39m(\u001b[38;5;28mself\u001b[39m, \u001b[38;5;241m*\u001b[39margs, \u001b[38;5;241m*\u001b[39m\u001b[38;5;241m*\u001b[39mkwargs):\n\u001b[1;32m---> 75\u001b[0m     \u001b[38;5;28;01mreturn\u001b[39;00m get_method(\u001b[38;5;28mself\u001b[39m)(\u001b[38;5;241m*\u001b[39margs, \u001b[38;5;241m*\u001b[39m\u001b[38;5;241m*\u001b[39mkwargs)\n",
      "File \u001b[1;32m~\\.conda\\envs\\YT-env\\lib\\site-packages\\matplotlib\\axis.py:1798\u001b[0m, in \u001b[0;36mAxis._set_ticklabels\u001b[1;34m(self, labels, fontdict, minor, **kwargs)\u001b[0m\n\u001b[0;32m   1796\u001b[0m \u001b[38;5;28;01mif\u001b[39;00m fontdict \u001b[38;5;129;01mis\u001b[39;00m \u001b[38;5;129;01mnot\u001b[39;00m \u001b[38;5;28;01mNone\u001b[39;00m:\n\u001b[0;32m   1797\u001b[0m     kwargs\u001b[38;5;241m.\u001b[39mupdate(fontdict)\n\u001b[1;32m-> 1798\u001b[0m \u001b[38;5;28;01mreturn\u001b[39;00m \u001b[38;5;28mself\u001b[39m\u001b[38;5;241m.\u001b[39mset_ticklabels(labels, minor\u001b[38;5;241m=\u001b[39mminor, \u001b[38;5;241m*\u001b[39m\u001b[38;5;241m*\u001b[39mkwargs)\n",
      "File \u001b[1;32m~\\.conda\\envs\\YT-env\\lib\\site-packages\\matplotlib\\axis.py:1720\u001b[0m, in \u001b[0;36mAxis.set_ticklabels\u001b[1;34m(self, ticklabels, minor, **kwargs)\u001b[0m\n\u001b[0;32m   1716\u001b[0m \u001b[38;5;28;01mif\u001b[39;00m \u001b[38;5;28misinstance\u001b[39m(locator, mticker\u001b[38;5;241m.\u001b[39mFixedLocator):\n\u001b[0;32m   1717\u001b[0m     \u001b[38;5;66;03m# Passing [] as a list of ticklabels is often used as a way to\u001b[39;00m\n\u001b[0;32m   1718\u001b[0m     \u001b[38;5;66;03m# remove all tick labels, so only error for > 0 ticklabels\u001b[39;00m\n\u001b[0;32m   1719\u001b[0m     \u001b[38;5;28;01mif\u001b[39;00m \u001b[38;5;28mlen\u001b[39m(locator\u001b[38;5;241m.\u001b[39mlocs) \u001b[38;5;241m!=\u001b[39m \u001b[38;5;28mlen\u001b[39m(ticklabels) \u001b[38;5;129;01mand\u001b[39;00m \u001b[38;5;28mlen\u001b[39m(ticklabels) \u001b[38;5;241m!=\u001b[39m \u001b[38;5;241m0\u001b[39m:\n\u001b[1;32m-> 1720\u001b[0m         \u001b[38;5;28;01mraise\u001b[39;00m \u001b[38;5;167;01mValueError\u001b[39;00m(\n\u001b[0;32m   1721\u001b[0m             \u001b[38;5;124m\"\u001b[39m\u001b[38;5;124mThe number of FixedLocator locations\u001b[39m\u001b[38;5;124m\"\u001b[39m\n\u001b[0;32m   1722\u001b[0m             \u001b[38;5;124mf\u001b[39m\u001b[38;5;124m\"\u001b[39m\u001b[38;5;124m (\u001b[39m\u001b[38;5;132;01m{\u001b[39;00m\u001b[38;5;28mlen\u001b[39m(locator\u001b[38;5;241m.\u001b[39mlocs)\u001b[38;5;132;01m}\u001b[39;00m\u001b[38;5;124m), usually from a call to\u001b[39m\u001b[38;5;124m\"\u001b[39m\n\u001b[0;32m   1723\u001b[0m             \u001b[38;5;124m\"\u001b[39m\u001b[38;5;124m set_ticks, does not match\u001b[39m\u001b[38;5;124m\"\u001b[39m\n\u001b[0;32m   1724\u001b[0m             \u001b[38;5;124mf\u001b[39m\u001b[38;5;124m\"\u001b[39m\u001b[38;5;124m the number of ticklabels (\u001b[39m\u001b[38;5;132;01m{\u001b[39;00m\u001b[38;5;28mlen\u001b[39m(ticklabels)\u001b[38;5;132;01m}\u001b[39;00m\u001b[38;5;124m).\u001b[39m\u001b[38;5;124m\"\u001b[39m)\n\u001b[0;32m   1725\u001b[0m     tickd \u001b[38;5;241m=\u001b[39m {loc: lab \u001b[38;5;28;01mfor\u001b[39;00m loc, lab \u001b[38;5;129;01min\u001b[39;00m \u001b[38;5;28mzip\u001b[39m(locator\u001b[38;5;241m.\u001b[39mlocs, ticklabels)}\n\u001b[0;32m   1726\u001b[0m     func \u001b[38;5;241m=\u001b[39m functools\u001b[38;5;241m.\u001b[39mpartial(\u001b[38;5;28mself\u001b[39m\u001b[38;5;241m.\u001b[39m_format_with_dict, tickd)\n",
      "\u001b[1;31mValueError\u001b[0m: The number of FixedLocator locations (3), usually from a call to set_ticks, does not match the number of ticklabels (2)."
     ]
    },
    {
     "data": {
      "image/png": "[encoded data removed]",
      "text/plain": [
       "<Figure size 432x288 with 1 Axes>"
      ]
     },
     "metadata": {
      "needs_background": "light"
     },
     "output_type": "display_data"
    }
   ],
   "source": [
    "import matplotlib.pyplot as plt\n",
    "\n",
    "x_tick = np.unique(y_test)\n",
    "w = 0.125\n",
    "x1 = np.array([1,2,3])\n",
    "x2 = x1+w\n",
    "x3 = x2+w\n",
    "x4 = x3+w\n",
    "\n",
    "plt.xticks(ticks=x1+0.3, labels=x_tick)\n",
    "plt.bar(x1, y, w, label = \"Total Video Title\")\n",
    "plt.bar(x2, z1, w, label = \"Linear SVC\")\n",
    "plt.bar(x3, z2, w, label = \"Logistic Regression\",)\n",
    "plt.bar(x4, z3, w, label = \"Random Forest Classifier\")\n",
    "\n",
    "\n",
    "plt.rcParams[\"figure.figsize\"] = (15,5)\n",
    "plt.xlabel(\"Category\")\n",
    "plt.ylabel(\"Number of Video Title\")\n",
    "plt.legend()\n",
    "plt.show()"
   ]
  },
  {
   "cell_type": "code",
   "execution_count": null,
   "id": "a82d1e3c",
   "metadata": {},
   "outputs": [],
   "source": []
  }
 ],
 "metadata": {
  "kernelspec": {
   "display_name": "Python 3 (ipykernel)",
   "language": "python",
   "name": "python3"
  },
  "language_info": {
   "codemirror_mode": {
    "name": "ipython",
    "version": 3
   },
   "file_extension": ".py",
   "mimetype": "text/x-python",
   "name": "python",
   "nbconvert_exporter": "python",
   "pygments_lexer": "ipython3",
   "version": "3.10.4"
  }
 },
 "nbformat": 4,
 "nbformat_minor": 5
}
